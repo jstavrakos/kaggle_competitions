{
  "metadata": {
    "kaggle": {
      "accelerator": "gpu",
      "dataSources": [
        {
          "sourceId": 63056,
          "databundleVersionId": 9094797,
          "sourceType": "competition"
        },
        {
          "sourceId": 8982084,
          "sourceType": "datasetVersion",
          "datasetId": 5406640
        },
        {
          "sourceId": 8991790,
          "sourceType": "datasetVersion",
          "datasetId": 5415918
        },
        {
          "sourceId": 186147615,
          "sourceType": "kernelVersion"
        },
        {
          "sourceId": 186149019,
          "sourceType": "kernelVersion"
        },
        {
          "sourceId": 187730674,
          "sourceType": "kernelVersion"
        },
        {
          "sourceId": 188543089,
          "sourceType": "kernelVersion"
        },
        {
          "sourceId": 188543756,
          "sourceType": "kernelVersion"
        },
        {
          "sourceId": 188602899,
          "sourceType": "kernelVersion"
        },
        {
          "sourceId": 188603204,
          "sourceType": "kernelVersion"
        },
        {
          "sourceId": 188603902,
          "sourceType": "kernelVersion"
        },
        {
          "sourceId": 190801726,
          "sourceType": "kernelVersion"
        },
        {
          "sourceId": 190815443,
          "sourceType": "kernelVersion"
        },
        {
          "sourceId": 190817588,
          "sourceType": "kernelVersion"
        }
      ],
      "dockerImageVersionId": 30747,
      "isInternetEnabled": false,
      "language": "python",
      "sourceType": "notebook",
      "isGpuEnabled": true
    },
    "kernelspec": {
      "display_name": "Python 3",
      "language": "python",
      "name": "python3"
    },
    "language_info": {
      "codemirror_mode": {
        "name": "ipython",
        "version": 3
      },
      "file_extension": ".py",
      "mimetype": "text/x-python",
      "name": "python",
      "nbconvert_exporter": "python",
      "pygments_lexer": "ipython3",
      "version": "3.10.13"
    },
    "papermill": {
      "default_parameters": {},
      "duration": 356.781367,
      "end_time": "2024-08-16T07:28:57.480278",
      "environment_variables": {},
      "exception": null,
      "input_path": "__notebook__.ipynb",
      "output_path": "__notebook__.ipynb",
      "parameters": {},
      "start_time": "2024-08-16T07:23:00.698911",
      "version": "2.5.0"
    },
    "colab": {
      "name": "ISIC 2024 |  3 Image Lines",
      "provenance": []
    }
  },
  "nbformat_minor": 0,
  "nbformat": 4,
  "cells": [
    {
      "source": [
        "\n",
        "# IMPORTANT: RUN THIS CELL IN ORDER TO IMPORT YOUR KAGGLE DATA SOURCES\n",
        "# TO THE CORRECT LOCATION (/kaggle/input) IN YOUR NOTEBOOK,\n",
        "# THEN FEEL FREE TO DELETE THIS CELL.\n",
        "# NOTE: THIS NOTEBOOK ENVIRONMENT DIFFERS FROM KAGGLE'S PYTHON\n",
        "# ENVIRONMENT SO THERE MAY BE MISSING LIBRARIES USED BY YOUR\n",
        "# NOTEBOOK.\n",
        "\n",
        "import os\n",
        "import sys\n",
        "from tempfile import NamedTemporaryFile\n",
        "from urllib.request import urlopen\n",
        "from urllib.parse import unquote, urlparse\n",
        "from urllib.error import HTTPError\n",
        "from zipfile import ZipFile\n",
        "import tarfile\n",
        "import shutil\n",
        "\n",
        "CHUNK_SIZE = 40960\n",
        "DATA_SOURCE_MAPPING = 'isic-2024-challenge:https%3A%2F%2Fstorage.googleapis.com%2Fkaggle-competitions-data%2Fkaggle-v2%2F63056%2F9094797%2Fbundle%2Farchive.zip%3FX-Goog-Algorithm%3DGOOG4-RSA-SHA256%26X-Goog-Credential%3Dgcp-kaggle-com%2540kaggle-161607.iam.gserviceaccount.com%252F20240914%252Fauto%252Fstorage%252Fgoog4_request%26X-Goog-Date%3D20240914T182757Z%26X-Goog-Expires%3D259200%26X-Goog-SignedHeaders%3Dhost%26X-Goog-Signature%3D3d078bd38c88cacc62c927da8bd87372b6a6a5defa96350d33d3eccda5dc5d7a378a4fa0764dbabf1e74d04a19ec3298a07ef0758579e239f1a89003234030ec28e99f6194c5837ae74127af972569daa5c2981ba06905c94561dba81786d0af0c251e6a006c1ccb22407cfd9b40a17bc868dd8f6bf41c594c7add05e2da2234a6976e95e75741d13b9927897f2462f83fc475f710d4ca09c491ee7b5410fccafa66c02067542283c800600de34fc69bf8adad6c4cc38f26a9300bc8ed999d028ffe6aa9dde46426e10f67bae8e74c73571a8580541dc1e93ed78c8abca9c929b4f50789f81e58ea8aaca6ae92acbe44ee871f16cd41263c18b7e9af188eb5ac,isic-2024-fails:https%3A%2F%2Fstorage.googleapis.com%2Fkaggle-data-sets%2F5406640%2F8982084%2Fbundle%2Farchive.zip%3FX-Goog-Algorithm%3DGOOG4-RSA-SHA256%26X-Goog-Credential%3Dgcp-kaggle-com%2540kaggle-161607.iam.gserviceaccount.com%252F20240914%252Fauto%252Fstorage%252Fgoog4_request%26X-Goog-Date%3D20240914T182757Z%26X-Goog-Expires%3D259200%26X-Goog-SignedHeaders%3Dhost%26X-Goog-Signature%3Db6f9a708fbd48751356ab1d9e03c4f2588476fb61d2100f9a312e4480e2a95edcba936dcf652c4a99cc6691fe4a8c21e997a6d332c9e49e9d903a56cd5e34ed45feec63980faf05ad543cd736654098e32874a2f27d90bfd66b24bfdba867aeac9c38987d0f349651aa84c8244d8e0cdf8affb5cefec5d48ca241b269a09dddc88acd43b269749da869800e4a264e3e0b29a0c5f9113f8306c618d868cea56dbed4a049e3576953bdc3460fe1c63fbf751e41ca4006737852d568ae01ac9555fa839bd55044a655c637f9736cbf2c90cbfe6a3aebb0e1bd2d55de1155013a3e12f275a774c0e3f2e4aa29ce28aa3c34e8d18727c8834f78632f8095c97d4d922,isic-2024-pl-submission-script-and-preds:https%3A%2F%2Fstorage.googleapis.com%2Fkaggle-data-sets%2F5415918%2F8991790%2Fbundle%2Farchive.zip%3FX-Goog-Algorithm%3DGOOG4-RSA-SHA256%26X-Goog-Credential%3Dgcp-kaggle-com%2540kaggle-161607.iam.gserviceaccount.com%252F20240914%252Fauto%252Fstorage%252Fgoog4_request%26X-Goog-Date%3D20240914T182757Z%26X-Goog-Expires%3D259200%26X-Goog-SignedHeaders%3Dhost%26X-Goog-Signature%3D14cfbb31834d697ca6549daac948886a74401de72f9aa796d408872d7c75e4cbd677366fc656928eb51fe931e0c09efce7dc14c0d025f2e56d784e309a82762dd5db7c417faeb69d9404859a1abd00d6188d47e3c90999f768e623f8befc76cb2a89bc80ead74ff508c3b7cf35084e173e301c99d0213819c85c6a082e5dd88823381330efcda2e79031398f7f7fab01510a0644486759105f5ae0c8f22331fb48af1c8f108827fefc045eec50e7ca79b8d46892885e749fbf04cc4146354fe5441ea4f6899a50b6c6295c09a642ace5d58dd0d821fb37cadb8ff1fb42c97b62d2105264dc39c271b60493ecb25b67acb0c4b4942d8c38f91a90d3d625b89ff4'\n",
        "\n",
        "KAGGLE_INPUT_PATH='/kaggle/input'\n",
        "KAGGLE_WORKING_PATH='/kaggle/working'\n",
        "KAGGLE_SYMLINK='kaggle'\n",
        "\n",
        "!umount /kaggle/input/ 2> /dev/null\n",
        "shutil.rmtree('/kaggle/input', ignore_errors=True)\n",
        "os.makedirs(KAGGLE_INPUT_PATH, 0o777, exist_ok=True)\n",
        "os.makedirs(KAGGLE_WORKING_PATH, 0o777, exist_ok=True)\n",
        "\n",
        "try:\n",
        "  os.symlink(KAGGLE_INPUT_PATH, os.path.join(\"..\", 'input'), target_is_directory=True)\n",
        "except FileExistsError:\n",
        "  pass\n",
        "try:\n",
        "  os.symlink(KAGGLE_WORKING_PATH, os.path.join(\"..\", 'working'), target_is_directory=True)\n",
        "except FileExistsError:\n",
        "  pass\n",
        "\n",
        "for data_source_mapping in DATA_SOURCE_MAPPING.split(','):\n",
        "    directory, download_url_encoded = data_source_mapping.split(':')\n",
        "    download_url = unquote(download_url_encoded)\n",
        "    filename = urlparse(download_url).path\n",
        "    destination_path = os.path.join(KAGGLE_INPUT_PATH, directory)\n",
        "    try:\n",
        "        with urlopen(download_url) as fileres, NamedTemporaryFile() as tfile:\n",
        "            total_length = fileres.headers['content-length']\n",
        "            print(f'Downloading {directory}, {total_length} bytes compressed')\n",
        "            dl = 0\n",
        "            data = fileres.read(CHUNK_SIZE)\n",
        "            while len(data) > 0:\n",
        "                dl += len(data)\n",
        "                tfile.write(data)\n",
        "                done = int(50 * dl / int(total_length))\n",
        "                sys.stdout.write(f\"\\r[{'=' * done}{' ' * (50-done)}] {dl} bytes downloaded\")\n",
        "                sys.stdout.flush()\n",
        "                data = fileres.read(CHUNK_SIZE)\n",
        "            if filename.endswith('.zip'):\n",
        "              with ZipFile(tfile) as zfile:\n",
        "                zfile.extractall(destination_path)\n",
        "            else:\n",
        "              with tarfile.open(tfile.name) as tarfile:\n",
        "                tarfile.extractall(destination_path)\n",
        "            print(f'\\nDownloaded and uncompressed: {directory}')\n",
        "    except HTTPError as e:\n",
        "        print(f'Failed to load (likely expired) {download_url} to path {destination_path}')\n",
        "        continue\n",
        "    except OSError as e:\n",
        "        print(f'Failed to load {download_url} to path {destination_path}')\n",
        "        continue\n",
        "\n",
        "print('Data source import complete.')\n"
      ],
      "metadata": {
        "id": "JmJN9ttJzX-r"
      },
      "cell_type": "code",
      "outputs": [],
      "execution_count": null
    },
    {
      "cell_type": "code",
      "source": [
        "import os\n",
        "import gc\n",
        "import time\n",
        "import copy\n",
        "import optuna\n",
        "\n",
        "from pathlib import Path\n",
        "\n",
        "import numpy as np, pandas as pd, polars as pl\n",
        "\n",
        "from sklearn.model_selection import GroupKFold\n",
        "from sklearn.model_selection import StratifiedGroupKFold\n",
        "from sklearn.model_selection import cross_val_score\n",
        "from sklearn.preprocessing import OneHotEncoder\n",
        "from sklearn.metrics import roc_auc_score\n",
        "from sklearn.metrics import mean_squared_error\n",
        "from sklearn.ensemble import VotingClassifier\n",
        "\n",
        "from sklearn.utils import resample\n",
        "\n",
        "from imblearn.under_sampling import RandomUnderSampler\n",
        "from imblearn.pipeline import Pipeline\n",
        "from imblearn.over_sampling import RandomOverSampler\n",
        "\n",
        "import lightgbm as lgb, catboost as cb, xgboost as xgb\n",
        "\n",
        "from optuna.samplers import TPESampler\n",
        "\n",
        "from imblearn.under_sampling import NearMiss\n",
        "from imblearn.under_sampling import ClusterCentroids\n",
        "from imblearn.under_sampling import TomekLinks\n",
        "from imblearn.under_sampling import EditedNearestNeighbours\n",
        "# from imblearn.pipeline import Pipeline as ImbPipeline\n",
        "from imblearn.under_sampling import NearMiss, TomekLinks\n",
        "from sklearn.impute import SimpleImputer\n",
        "from sklearn.feature_selection import SelectKBest, chi2, mutual_info_classif, VarianceThreshold\n",
        "from sklearn.base import BaseEstimator, TransformerMixin"
      ],
      "metadata": {
        "execution": {
          "iopub.status.busy": "2024-08-25T21:44:14.157702Z",
          "iopub.execute_input": "2024-08-25T21:44:14.158651Z",
          "iopub.status.idle": "2024-08-25T21:44:20.746256Z",
          "shell.execute_reply.started": "2024-08-25T21:44:14.158609Z",
          "shell.execute_reply": "2024-08-25T21:44:20.745268Z"
        },
        "trusted": true,
        "id": "UciV4VIQzX-w"
      },
      "execution_count": null,
      "outputs": []
    },
    {
      "cell_type": "markdown",
      "source": [
        "# IMAGE PREDICTIONS"
      ],
      "metadata": {
        "papermill": {
          "duration": 0.012065,
          "end_time": "2024-08-16T07:23:09.487673",
          "exception": false,
          "start_time": "2024-08-16T07:23:09.475608",
          "status": "completed"
        },
        "tags": [],
        "id": "nSIhkD7jzX-x"
      }
    },
    {
      "cell_type": "code",
      "source": [
        "#EFFNET V1B0\n",
        "!python /kaggle/input/isic-script-inference-effnetv1b0-f313ae/main.py /kaggle/input/isic-pytorch-training-baseline-image-only/AUROC0.5171_Loss0.3476_epoch35.bin\n",
        "!mv submission.csv submission_effnetv1b0.csv"
      ],
      "metadata": {
        "papermill": {
          "duration": 13.098024,
          "end_time": "2024-08-16T07:23:22.597759",
          "exception": false,
          "start_time": "2024-08-16T07:23:09.499735",
          "status": "completed"
        },
        "tags": [],
        "execution": {
          "iopub.status.busy": "2024-08-25T21:44:20.748144Z",
          "iopub.execute_input": "2024-08-25T21:44:20.748988Z",
          "iopub.status.idle": "2024-08-25T21:44:33.819935Z",
          "shell.execute_reply.started": "2024-08-25T21:44:20.74896Z",
          "shell.execute_reply": "2024-08-25T21:44:33.818843Z"
        },
        "trusted": true,
        "id": "5DeOLRJ0zX-z"
      },
      "execution_count": null,
      "outputs": []
    },
    {
      "cell_type": "code",
      "source": [
        "#TARGET 3\n",
        "!python /kaggle/input/isic-2024-pl-submission-script-and-preds/pl_submission.py\n",
        "!mv submission.csv submission_image3.csv"
      ],
      "metadata": {
        "papermill": {
          "duration": 19.997614,
          "end_time": "2024-08-16T07:23:42.608204",
          "exception": false,
          "start_time": "2024-08-16T07:23:22.61059",
          "status": "completed"
        },
        "tags": [],
        "execution": {
          "iopub.status.busy": "2024-08-25T21:44:33.825374Z",
          "iopub.execute_input": "2024-08-25T21:44:33.825665Z",
          "iopub.status.idle": "2024-08-25T21:44:54.395908Z",
          "shell.execute_reply.started": "2024-08-25T21:44:33.825637Z",
          "shell.execute_reply": "2024-08-25T21:44:54.394829Z"
        },
        "trusted": true,
        "id": "5s7b1movzX-1"
      },
      "execution_count": null,
      "outputs": []
    },
    {
      "cell_type": "code",
      "source": [
        "#EVA02\n",
        "!python /kaggle/input/isic-script-inference-eva02/main.py /kaggle/input/isic-pytorch-training-baseline-eva02/AUROC0.5177_Loss0.2829_epoch7.bin\n",
        "!mv submission.csv submission_eva02.csv"
      ],
      "metadata": {
        "papermill": {
          "duration": 10.001464,
          "end_time": "2024-08-16T07:23:52.623069",
          "exception": false,
          "start_time": "2024-08-16T07:23:42.621605",
          "status": "completed"
        },
        "tags": [],
        "execution": {
          "iopub.status.busy": "2024-08-25T21:44:54.397392Z",
          "iopub.execute_input": "2024-08-25T21:44:54.397717Z",
          "iopub.status.idle": "2024-08-25T21:45:04.616332Z",
          "shell.execute_reply.started": "2024-08-25T21:44:54.397689Z",
          "shell.execute_reply": "2024-08-25T21:45:04.615265Z"
        },
        "trusted": true,
        "id": "SwkKVJR5zX-2"
      },
      "execution_count": null,
      "outputs": []
    },
    {
      "cell_type": "code",
      "source": [
        "# #EDGENEXT\n",
        "# !python /kaggle/input/isic-script-inference-edgenext/main.py /kaggle/input/isic-pytorch-training-edgenext/Final_model.bin\n",
        "# !mv submission.csv submission_edgenext.csv"
      ],
      "metadata": {
        "papermill": {
          "duration": 10.036949,
          "end_time": "2024-08-16T07:24:02.673208",
          "exception": false,
          "start_time": "2024-08-16T07:23:52.636259",
          "status": "completed"
        },
        "tags": [],
        "execution": {
          "iopub.status.busy": "2024-08-25T21:45:04.617732Z",
          "iopub.execute_input": "2024-08-25T21:45:04.618038Z",
          "iopub.status.idle": "2024-08-25T21:45:04.622401Z",
          "shell.execute_reply.started": "2024-08-25T21:45:04.618011Z",
          "shell.execute_reply": "2024-08-25T21:45:04.621471Z"
        },
        "trusted": true,
        "id": "OR0xFNxWzX-4"
      },
      "execution_count": null,
      "outputs": []
    },
    {
      "cell_type": "markdown",
      "source": [
        "# DATA PREPROCESS"
      ],
      "metadata": {
        "papermill": {
          "duration": 0.012867,
          "end_time": "2024-08-16T07:24:02.699572",
          "exception": false,
          "start_time": "2024-08-16T07:24:02.686705",
          "status": "completed"
        },
        "tags": [],
        "id": "IHLE3UO9zX-4"
      }
    },
    {
      "cell_type": "code",
      "source": [
        "root = Path('/kaggle/input/isic-2024-challenge')\n",
        "\n",
        "train_path = root / 'train-metadata.csv'\n",
        "test_path = root / 'test-metadata.csv'\n",
        "subm_path = root / 'sample_submission.csv'\n",
        "\n",
        "id_col = 'isic_id'\n",
        "target_col = 'target'\n",
        "group_col = 'patient_id'\n",
        "\n",
        "err = 1e-5\n",
        "sampling_ratio = 0.01\n",
        "seed = 42"
      ],
      "metadata": {
        "execution": {
          "iopub.status.busy": "2024-08-25T21:45:04.623421Z",
          "iopub.execute_input": "2024-08-25T21:45:04.62375Z",
          "iopub.status.idle": "2024-08-25T21:45:04.638294Z",
          "shell.execute_reply.started": "2024-08-25T21:45:04.623722Z",
          "shell.execute_reply": "2024-08-25T21:45:04.637537Z"
        },
        "trusted": true,
        "id": "2mgHDSJuzX-4"
      },
      "execution_count": null,
      "outputs": []
    },
    {
      "cell_type": "code",
      "source": [
        "num_cols = [\n",
        "    'age_approx',                        # Approximate age of patient at time of imaging.\n",
        "    'clin_size_long_diam_mm',            # Maximum diameter of the lesion (mm).+\n",
        "    'tbp_lv_A',                          # A inside  lesion.+\n",
        "    'tbp_lv_Aext',                       # A outside lesion.+\n",
        "    'tbp_lv_B',                          # B inside  lesion.+\n",
        "    'tbp_lv_Bext',                       # B outside lesion.+\n",
        "    'tbp_lv_C',                          # Chroma inside  lesion.+\n",
        "    'tbp_lv_Cext',                       # Chroma outside lesion.+\n",
        "    'tbp_lv_H',                          # Hue inside the lesion; calculated as the angle of A* and B* in LAB* color space. Typical values range from 25 (red) to 75 (brown).+\n",
        "    'tbp_lv_Hext',                       # Hue outside lesion.+\n",
        "    'tbp_lv_L',                          # L inside lesion.+\n",
        "    'tbp_lv_Lext',                       # L outside lesion.+\n",
        "    'tbp_lv_areaMM2',                    # Area of lesion (mm^2).+\n",
        "    'tbp_lv_area_perim_ratio',           # Border jaggedness, the ratio between lesions perimeter and area. Circular lesions will have low values; irregular shaped lesions will have higher values. Values range 0-10.+\n",
        "    'tbp_lv_color_std_mean',             # Color irregularity, calculated as the variance of colors within the lesion's boundary.\n",
        "    'tbp_lv_deltaA',                     # Average A contrast (inside vs. outside lesion).+\n",
        "    'tbp_lv_deltaB',                     # Average B contrast (inside vs. outside lesion).+\n",
        "    'tbp_lv_deltaL',                     # Average L contrast (inside vs. outside lesion).+\n",
        "    'tbp_lv_deltaLB',                    #\n",
        "    'tbp_lv_deltaLBnorm',                # Contrast between the lesion and its immediate surrounding skin. Low contrast lesions tend to be faintly visible such as freckles; high contrast lesions tend to be those with darker pigment. Calculated as the average delta LB of the lesion relative to its immediate background in LAB* color space. Typical values range from 5.5 to 25.+\n",
        "    'tbp_lv_eccentricity',               # Eccentricity.+\n",
        "    'tbp_lv_minorAxisMM',                # Smallest lesion diameter (mm).+\n",
        "    'tbp_lv_nevi_confidence',            # Nevus confidence score (0-100 scale) is a convolutional neural network classifier estimated probability that the lesion is a nevus. The neural network was trained on approximately 57,000 lesions that were classified and labeled by a dermatologist.+,++\n",
        "    'tbp_lv_norm_border',                # Border irregularity (0-10 scale); the normalized average of border jaggedness and asymmetry.+\n",
        "    'tbp_lv_norm_color',                 # Color variation (0-10 scale); the normalized average of color asymmetry and color irregularity.+\n",
        "    'tbp_lv_perimeterMM',                # Perimeter of lesion (mm).+\n",
        "    'tbp_lv_radial_color_std_max',       # Color asymmetry, a measure of asymmetry of the spatial distribution of color within the lesion. This score is calculated by looking at the average standard deviation in LAB* color space within concentric rings originating from the lesion center. Values range 0-10.+\n",
        "    'tbp_lv_stdL',                       # Standard deviation of L inside  lesion.+\n",
        "    'tbp_lv_stdLExt',                    # Standard deviation of L outside lesion.+\n",
        "    'tbp_lv_symm_2axis',                 # Border asymmetry; a measure of asymmetry of the lesion's contour about an axis perpendicular to the lesion's most symmetric axis. Lesions with two axes of symmetry will therefore have low scores (more symmetric), while lesions with only one or zero axes of symmetry will have higher scores (less symmetric). This score is calculated by comparing opposite halves of the lesion contour over many degrees of rotation. The angle where the halves are most similar identifies the principal axis of symmetry, while the second axis of symmetry is perpendicular to the principal axis. Border asymmetry is reported as the asymmetry value about this second axis. Values range 0-10.+\n",
        "    'tbp_lv_symm_2axis_angle',           # Lesion border asymmetry angle.+\n",
        "    'tbp_lv_x',                          # X-coordinate of the lesion on 3D TBP.+\n",
        "    'tbp_lv_y',                          # Y-coordinate of the lesion on 3D TBP.+\n",
        "    'tbp_lv_z',                          # Z-coordinate of the lesion on 3D TBP.+\n",
        "]\n",
        "\n",
        "new_num_cols = [\n",
        "    'lesion_size_ratio',                 # tbp_lv_minorAxisMM      / clin_size_long_diam_mm\n",
        "    'lesion_shape_index',                # tbp_lv_areaMM2          / tbp_lv_perimeterMM **2\n",
        "    'hue_contrast',                      # tbp_lv_H                - tbp_lv_Hext              abs\n",
        "    'luminance_contrast',                # tbp_lv_L                - tbp_lv_Lext              abs\n",
        "    'lesion_color_difference',           # tbp_lv_deltaA **2       + tbp_lv_deltaB **2 + tbp_lv_deltaL **2  sqrt\n",
        "    'border_complexity',                 # tbp_lv_norm_border      + tbp_lv_symm_2axis\n",
        "    'color_uniformity',                  # tbp_lv_color_std_mean   / tbp_lv_radial_color_std_max\n",
        "\n",
        "    'position_distance_3d',              # tbp_lv_x **2 + tbp_lv_y **2 + tbp_lv_z **2  sqrt\n",
        "    'perimeter_to_area_ratio',           # tbp_lv_perimeterMM      / tbp_lv_areaMM2\n",
        "    'area_to_perimeter_ratio',           # tbp_lv_areaMM2          / tbp_lv_perimeterMM\n",
        "    'lesion_visibility_score',           # tbp_lv_deltaLBnorm      + tbp_lv_norm_color\n",
        "    'symmetry_border_consistency',       # tbp_lv_symm_2axis       * tbp_lv_norm_border\n",
        "    'consistency_symmetry_border',       # tbp_lv_symm_2axis       * tbp_lv_norm_border / (tbp_lv_symm_2axis + tbp_lv_norm_border)\n",
        "\n",
        "    'color_consistency',                 # tbp_lv_stdL             / tbp_lv_Lext\n",
        "    'consistency_color',                 # tbp_lv_stdL*tbp_lv_Lext / tbp_lv_stdL + tbp_lv_Lext\n",
        "    'size_age_interaction',              # clin_size_long_diam_mm  * age_approx\n",
        "    'hue_color_std_interaction',         # tbp_lv_H                * tbp_lv_color_std_mean\n",
        "    'lesion_severity_index',             # tbp_lv_norm_border      + tbp_lv_norm_color + tbp_lv_eccentricity / 3\n",
        "    'shape_complexity_index',            # border_complexity       + lesion_shape_index\n",
        "    'color_contrast_index',              # tbp_lv_deltaA + tbp_lv_deltaB + tbp_lv_deltaL + tbp_lv_deltaLBnorm\n",
        "\n",
        "    'log_lesion_area',                   # tbp_lv_areaMM2          + 1  np.log\n",
        "    'normalized_lesion_size',            # clin_size_long_diam_mm  / age_approx\n",
        "    'mean_hue_difference',               # tbp_lv_H                + tbp_lv_Hext    / 2\n",
        "    'std_dev_contrast',                  # tbp_lv_deltaA **2 + tbp_lv_deltaB **2 + tbp_lv_deltaL **2   / 3  np.sqrt\n",
        "    'color_shape_composite_index',       # tbp_lv_color_std_mean   + bp_lv_area_perim_ratio + tbp_lv_symm_2axis   / 3\n",
        "    'lesion_orientation_3d',             # tbp_lv_y                , tbp_lv_x  np.arctan2\n",
        "    'overall_color_difference',          # tbp_lv_deltaA           + tbp_lv_deltaB + tbp_lv_deltaL   / 3\n",
        "\n",
        "    'symmetry_perimeter_interaction',    # tbp_lv_symm_2axis       * tbp_lv_perimeterMM\n",
        "    'comprehensive_lesion_index',        # tbp_lv_area_perim_ratio + tbp_lv_eccentricity + bp_lv_norm_color + tbp_lv_symm_2axis   / 4\n",
        "    'color_variance_ratio',              # tbp_lv_color_std_mean   / tbp_lv_stdLExt\n",
        "    'border_color_interaction',          # tbp_lv_norm_border      * tbp_lv_norm_color\n",
        "    'border_color_interaction_2',\n",
        "    'size_color_contrast_ratio',         # clin_size_long_diam_mm  / tbp_lv_deltaLBnorm\n",
        "    'age_normalized_nevi_confidence',    # tbp_lv_nevi_confidence  / age_approx\n",
        "    'age_normalized_nevi_confidence_2',\n",
        "    'color_asymmetry_index',             # tbp_lv_symm_2axis       * tbp_lv_radial_color_std_max\n",
        "\n",
        "    'volume_approximation_3d',           # tbp_lv_areaMM2          * sqrt(tbp_lv_x**2 + tbp_lv_y**2 + tbp_lv_z**2)\n",
        "    'color_range',                       # abs(tbp_lv_L - tbp_lv_Lext) + abs(tbp_lv_A - tbp_lv_Aext) + abs(tbp_lv_B - tbp_lv_Bext)\n",
        "    'shape_color_consistency',           # tbp_lv_eccentricity     * tbp_lv_color_std_mean\n",
        "    'border_length_ratio',               # tbp_lv_perimeterMM      / pi * sqrt(tbp_lv_areaMM2 / pi)\n",
        "    'age_size_symmetry_index',           # age_approx              * clin_size_long_diam_mm * tbp_lv_symm_2axis\n",
        "    'index_age_size_symmetry',           # age_approx              * tbp_lv_areaMM2 * tbp_lv_symm_2axis\n",
        "]\n",
        "\n",
        "cat_cols = ['sex', 'anatom_site_general', 'tbp_tile_type', 'tbp_lv_location', 'tbp_lv_location_simple', 'attribution']\n",
        "norm_cols = [f'{col}_patient_norm' for col in num_cols + new_num_cols]\n",
        "special_cols = ['count_per_patient']\n",
        "image_cols = [\"target_3\",\"target_effnetv1b0\",\"target_eva02\"] # ,\"target_edgenext\"]\n",
        "\n",
        "#norm_cols += image_cols\n",
        "feature_cols = num_cols + new_num_cols + cat_cols + norm_cols + special_cols"
      ],
      "metadata": {
        "papermill": {
          "duration": 0.034084,
          "end_time": "2024-08-16T07:24:02.746912",
          "exception": false,
          "start_time": "2024-08-16T07:24:02.712828",
          "status": "completed"
        },
        "tags": [],
        "execution": {
          "iopub.status.busy": "2024-08-25T21:45:04.639322Z",
          "iopub.execute_input": "2024-08-25T21:45:04.639597Z",
          "iopub.status.idle": "2024-08-25T21:45:04.656208Z",
          "shell.execute_reply.started": "2024-08-25T21:45:04.639567Z",
          "shell.execute_reply": "2024-08-25T21:45:04.655298Z"
        },
        "trusted": true,
        "id": "P5QYpXJPzX-4"
      },
      "execution_count": null,
      "outputs": []
    },
    {
      "cell_type": "code",
      "source": [
        "def read_data(path):\n",
        "    return (\n",
        "        pl.read_csv(path)\n",
        "        .with_columns(\n",
        "            pl.col('age_approx').cast(pl.String).replace('NA', np.nan).cast(pl.Float64),\n",
        "        )\n",
        "        .with_columns(\n",
        "            pl.col(pl.Float64).fill_nan(pl.col(pl.Float64).median()), # You may want to impute test data with train\n",
        "        )\n",
        "        .with_columns(\n",
        "            lesion_size_ratio              = pl.col('tbp_lv_minorAxisMM') / pl.col('clin_size_long_diam_mm'),\n",
        "            lesion_shape_index             = pl.col('tbp_lv_areaMM2') / (pl.col('tbp_lv_perimeterMM') ** 2),\n",
        "            hue_contrast                   = (pl.col('tbp_lv_H') - pl.col('tbp_lv_Hext')).abs(),\n",
        "            luminance_contrast             = (pl.col('tbp_lv_L') - pl.col('tbp_lv_Lext')).abs(),\n",
        "            lesion_color_difference        = (pl.col('tbp_lv_deltaA') ** 2 + pl.col('tbp_lv_deltaB') ** 2 + pl.col('tbp_lv_deltaL') ** 2).sqrt(),\n",
        "            border_complexity              = pl.col('tbp_lv_norm_border') + pl.col('tbp_lv_symm_2axis'),\n",
        "            color_uniformity               = pl.col('tbp_lv_color_std_mean') / (pl.col('tbp_lv_radial_color_std_max') + err),\n",
        "        )\n",
        "        .with_columns(\n",
        "            position_distance_3d           = (pl.col('tbp_lv_x') ** 2 + pl.col('tbp_lv_y') ** 2 + pl.col('tbp_lv_z') ** 2).sqrt(),\n",
        "            perimeter_to_area_ratio        = pl.col('tbp_lv_perimeterMM') / pl.col('tbp_lv_areaMM2'),\n",
        "            area_to_perimeter_ratio        = pl.col('tbp_lv_areaMM2') / pl.col('tbp_lv_perimeterMM'),\n",
        "            lesion_visibility_score        = pl.col('tbp_lv_deltaLBnorm') + pl.col('tbp_lv_norm_color'),\n",
        "            combined_anatomical_site       = pl.col('anatom_site_general') + '_' + pl.col('tbp_lv_location'),\n",
        "            symmetry_border_consistency    = pl.col('tbp_lv_symm_2axis') * pl.col('tbp_lv_norm_border'),\n",
        "            consistency_symmetry_border    = pl.col('tbp_lv_symm_2axis') * pl.col('tbp_lv_norm_border') / (pl.col('tbp_lv_symm_2axis') + pl.col('tbp_lv_norm_border')),\n",
        "        )\n",
        "        .with_columns(\n",
        "            color_consistency              = pl.col('tbp_lv_stdL') / pl.col('tbp_lv_Lext'),\n",
        "            consistency_color              = pl.col('tbp_lv_stdL') * pl.col('tbp_lv_Lext') / (pl.col('tbp_lv_stdL') + pl.col('tbp_lv_Lext')),\n",
        "            size_age_interaction           = pl.col('clin_size_long_diam_mm') * pl.col('age_approx'),\n",
        "            hue_color_std_interaction      = pl.col('tbp_lv_H') * pl.col('tbp_lv_color_std_mean'),\n",
        "            lesion_severity_index          = (pl.col('tbp_lv_norm_border') + pl.col('tbp_lv_norm_color') + pl.col('tbp_lv_eccentricity')) / 3,\n",
        "            shape_complexity_index         = pl.col('border_complexity') + pl.col('lesion_shape_index'),\n",
        "            color_contrast_index           = pl.col('tbp_lv_deltaA') + pl.col('tbp_lv_deltaB') + pl.col('tbp_lv_deltaL') + pl.col('tbp_lv_deltaLBnorm'),\n",
        "        )\n",
        "        .with_columns(\n",
        "            log_lesion_area                = (pl.col('tbp_lv_areaMM2') + 1).log(),\n",
        "            normalized_lesion_size         = pl.col('clin_size_long_diam_mm') / pl.col('age_approx'),\n",
        "            mean_hue_difference            = (pl.col('tbp_lv_H') + pl.col('tbp_lv_Hext')) / 2,\n",
        "            std_dev_contrast               = ((pl.col('tbp_lv_deltaA') ** 2 + pl.col('tbp_lv_deltaB') ** 2 + pl.col('tbp_lv_deltaL') ** 2) / 3).sqrt(),\n",
        "            color_shape_composite_index    = (pl.col('tbp_lv_color_std_mean') + pl.col('tbp_lv_area_perim_ratio') + pl.col('tbp_lv_symm_2axis')) / 3,\n",
        "            lesion_orientation_3d          = pl.arctan2(pl.col('tbp_lv_y'), pl.col('tbp_lv_x')),\n",
        "            overall_color_difference       = (pl.col('tbp_lv_deltaA') + pl.col('tbp_lv_deltaB') + pl.col('tbp_lv_deltaL')) / 3,\n",
        "        )\n",
        "        .with_columns(\n",
        "            symmetry_perimeter_interaction = pl.col('tbp_lv_symm_2axis') * pl.col('tbp_lv_perimeterMM'),\n",
        "            comprehensive_lesion_index     = (pl.col('tbp_lv_area_perim_ratio') + pl.col('tbp_lv_eccentricity') + pl.col('tbp_lv_norm_color') + pl.col('tbp_lv_symm_2axis')) / 4,\n",
        "            color_variance_ratio           = pl.col('tbp_lv_color_std_mean') / pl.col('tbp_lv_stdLExt'),\n",
        "            border_color_interaction       = pl.col('tbp_lv_norm_border') * pl.col('tbp_lv_norm_color'),\n",
        "            border_color_interaction_2     = pl.col('tbp_lv_norm_border') * pl.col('tbp_lv_norm_color') / (pl.col('tbp_lv_norm_border') + pl.col('tbp_lv_norm_color')),\n",
        "            size_color_contrast_ratio      = pl.col('clin_size_long_diam_mm') / pl.col('tbp_lv_deltaLBnorm'),\n",
        "            age_normalized_nevi_confidence = pl.col('tbp_lv_nevi_confidence') / pl.col('age_approx'),\n",
        "            age_normalized_nevi_confidence_2 = (pl.col('clin_size_long_diam_mm')**2 + pl.col('age_approx')**2).sqrt(),\n",
        "            color_asymmetry_index          = pl.col('tbp_lv_radial_color_std_max') * pl.col('tbp_lv_symm_2axis'),\n",
        "        )\n",
        "        .with_columns(\n",
        "            volume_approximation_3d        = pl.col('tbp_lv_areaMM2') * (pl.col('tbp_lv_x')**2 + pl.col('tbp_lv_y')**2 + pl.col('tbp_lv_z')**2).sqrt(),\n",
        "            color_range                    = (pl.col('tbp_lv_L') - pl.col('tbp_lv_Lext')).abs() + (pl.col('tbp_lv_A') - pl.col('tbp_lv_Aext')).abs() + (pl.col('tbp_lv_B') - pl.col('tbp_lv_Bext')).abs(),\n",
        "            shape_color_consistency        = pl.col('tbp_lv_eccentricity') * pl.col('tbp_lv_color_std_mean'),\n",
        "            border_length_ratio            = pl.col('tbp_lv_perimeterMM') / (2 * np.pi * (pl.col('tbp_lv_areaMM2') / np.pi).sqrt()),\n",
        "            age_size_symmetry_index        = pl.col('age_approx') * pl.col('clin_size_long_diam_mm') * pl.col('tbp_lv_symm_2axis'),\n",
        "            index_age_size_symmetry        = pl.col('age_approx') * pl.col('tbp_lv_areaMM2') * pl.col('tbp_lv_symm_2axis'),\n",
        "        )\n",
        "        .with_columns(\n",
        "            ((pl.col(col) - pl.col(col).mean().over('patient_id')) / (pl.col(col).std().over('patient_id') + err)).alias(f'{col}_patient_norm') for col in (num_cols + new_num_cols)\n",
        "        )\n",
        "        .with_columns(\n",
        "            count_per_patient = pl.col('isic_id').count().over('patient_id'),\n",
        "        )\n",
        "        .with_columns(\n",
        "            pl.col(cat_cols).cast(pl.Categorical),\n",
        "        )\n",
        "        .to_pandas()\n",
        "        .set_index(id_col)\n",
        "    )"
      ],
      "metadata": {
        "papermill": {
          "duration": 0.043833,
          "end_time": "2024-08-16T07:24:02.80382",
          "exception": false,
          "start_time": "2024-08-16T07:24:02.759987",
          "status": "completed"
        },
        "tags": [],
        "execution": {
          "iopub.status.busy": "2024-08-25T21:45:04.657683Z",
          "iopub.execute_input": "2024-08-25T21:45:04.657987Z",
          "iopub.status.idle": "2024-08-25T21:45:04.688527Z",
          "shell.execute_reply.started": "2024-08-25T21:45:04.657965Z",
          "shell.execute_reply": "2024-08-25T21:45:04.687542Z"
        },
        "trusted": true,
        "id": "n6xcfPtjzX-5"
      },
      "execution_count": null,
      "outputs": []
    },
    {
      "cell_type": "code",
      "source": [
        "def preprocess(df_train, df_test):\n",
        "    global cat_cols\n",
        "\n",
        "    encoder = OneHotEncoder(sparse_output=False, dtype=np.int32, handle_unknown='ignore')\n",
        "    encoder.fit(df_train[cat_cols])\n",
        "\n",
        "    new_cat_cols = [f'onehot_{i}' for i in range(len(encoder.get_feature_names_out()))]\n",
        "\n",
        "    df_train[new_cat_cols] = encoder.transform(df_train[cat_cols])\n",
        "    df_train[new_cat_cols] = df_train[new_cat_cols].astype('category')\n",
        "\n",
        "    df_test[new_cat_cols] = encoder.transform(df_test[cat_cols])\n",
        "    df_test[new_cat_cols] = df_test[new_cat_cols].astype('category')\n",
        "\n",
        "    # effnetv1b0\n",
        "    df_eff = pd.read_csv(\"/kaggle/input/isic-inference-effnetv1b0-for-training-data/train_effnetv1b0.csv\")\n",
        "    df_train = df_train.reset_index(drop=True)\n",
        "    df_eff = df_eff.reset_index(drop=True)\n",
        "    df_train[\"target_effnetv1b0\"] = df_eff[\"target_effnetv1b0\"]\n",
        "    df_eff = pd.read_csv(\"submission_effnetv1b0.csv\")\n",
        "    df_test = df_test.reset_index(drop=True)\n",
        "    df_eff = df_eff.reset_index(drop=True)\n",
        "    df_test[\"target_effnetv1b0\"] = df_eff[\"target\"]\n",
        "\n",
        "    # target 3\n",
        "    df_image_3 = pd.read_csv(\"/kaggle/input/isic-2024-pl-submission-script-and-preds/train_preds.csv\")\n",
        "    df_train = df_train.reset_index(drop=True)\n",
        "    df_image_3 = df_image_3.reset_index(drop=True)\n",
        "    df_train[\"target_3\"] = df_image_3[\"pred\"]\n",
        "    df_3 = pd.read_csv(\"submission_image3.csv\")\n",
        "    df_test = df_test.reset_index(drop=True)\n",
        "    df_image_3 = df_image_3.reset_index(drop=True)\n",
        "    df_test[\"target_3\"] = df_3[\"target\"]\n",
        "\n",
        "    #eva02\n",
        "    df_eva = pd.read_csv(\"/kaggle/input/isic-inference-eva02-for-training-data/train_eva02.csv\")\n",
        "    df_train = df_train.reset_index(drop=True)\n",
        "    df_eva = df_eva.reset_index(drop=True)\n",
        "    df_eva = df_eva[[\"target_eva02\"]]\n",
        "    df_train[\"target_eva02\"] = df_eva[\"target_eva02\"]\n",
        "    df_eva = pd.read_csv(\"submission_eva02.csv\")\n",
        "    df_test = df_test.reset_index(drop=True)\n",
        "    df_eva = df_eva.reset_index(drop=True)\n",
        "    df_test[\"target_eva02\"] = df_eva[\"target\"]\n",
        "\n",
        "#     #edgenext\n",
        "#     df_ednx = pd.read_csv(\"/kaggle/input/isic-inference-edgenext-for-training-data/train_edgenext.csv\")\n",
        "#     df_train = df_train.reset_index(drop=True)\n",
        "#     df_ednx = df_ednx.reset_index(drop=True)\n",
        "#     df_ednx = df_ednx[['target_edgenext']]\n",
        "#     df_train['target_edgenext'] = df_ednx['target_edgenext']\n",
        "#     df_ednx = pd.read_csv(\"submission_edgenext.csv\")\n",
        "#     df_test = df_test.reset_index(drop=True)\n",
        "#     df_ednx = df_ednx.reset_index(drop=True)\n",
        "#     df_test [\"target_edgenext\"] = df_ednx['target']\n",
        "\n",
        "    for col in cat_cols:\n",
        "        feature_cols.remove(col)\n",
        "\n",
        "    feature_cols.extend(new_cat_cols)\n",
        "    cat_cols = new_cat_cols\n",
        "\n",
        "    return df_train, df_test"
      ],
      "metadata": {
        "papermill": {
          "duration": 0.028974,
          "end_time": "2024-08-16T07:24:02.845758",
          "exception": false,
          "start_time": "2024-08-16T07:24:02.816784",
          "status": "completed"
        },
        "tags": [],
        "execution": {
          "iopub.status.busy": "2024-08-25T21:45:04.692389Z",
          "iopub.execute_input": "2024-08-25T21:45:04.692716Z",
          "iopub.status.idle": "2024-08-25T21:45:04.706075Z",
          "shell.execute_reply.started": "2024-08-25T21:45:04.69269Z",
          "shell.execute_reply": "2024-08-25T21:45:04.705166Z"
        },
        "trusted": true,
        "id": "PJ6okMkwzX-6"
      },
      "execution_count": null,
      "outputs": []
    },
    {
      "cell_type": "code",
      "source": [
        "def custom_metric(estimator, X, y_true):\n",
        "    y_hat = estimator.predict_proba(X)[:, 1]\n",
        "    min_tpr = 0.80\n",
        "    max_fpr = abs(1 - min_tpr)\n",
        "\n",
        "    v_gt = abs(y_true - 1)\n",
        "    v_pred = np.array([1.0 - x for x in y_hat])\n",
        "\n",
        "    partial_auc_scaled = roc_auc_score(v_gt, v_pred, max_fpr=max_fpr)\n",
        "    partial_auc = 0.5 * max_fpr**2 + (max_fpr - 0.5 * max_fpr**2) / (1.0 - 0.5) * (partial_auc_scaled - 0.5)\n",
        "\n",
        "    return partial_auc"
      ],
      "metadata": {
        "papermill": {
          "duration": 0.021401,
          "end_time": "2024-08-16T07:24:02.880468",
          "exception": false,
          "start_time": "2024-08-16T07:24:02.859067",
          "status": "completed"
        },
        "tags": [],
        "execution": {
          "iopub.status.busy": "2024-08-25T21:45:04.707282Z",
          "iopub.execute_input": "2024-08-25T21:45:04.707627Z",
          "iopub.status.idle": "2024-08-25T21:45:04.719705Z",
          "shell.execute_reply.started": "2024-08-25T21:45:04.707593Z",
          "shell.execute_reply": "2024-08-25T21:45:04.718794Z"
        },
        "trusted": true,
        "id": "K_e_-7EazX-7"
      },
      "execution_count": null,
      "outputs": []
    },
    {
      "cell_type": "code",
      "source": [
        "df_train = read_data(train_path)\n",
        "df_test = read_data(test_path)\n",
        "df_subm = pd.read_csv(subm_path, index_col=id_col)\n",
        "\n",
        "df_train, df_test = preprocess(df_train, df_test)"
      ],
      "metadata": {
        "papermill": {
          "duration": 28.201569,
          "end_time": "2024-08-16T07:24:31.095029",
          "exception": false,
          "start_time": "2024-08-16T07:24:02.89346",
          "status": "completed"
        },
        "tags": [],
        "execution": {
          "iopub.status.busy": "2024-08-25T21:45:04.72083Z",
          "iopub.execute_input": "2024-08-25T21:45:04.72109Z",
          "iopub.status.idle": "2024-08-25T21:45:27.5625Z",
          "shell.execute_reply.started": "2024-08-25T21:45:04.721068Z",
          "shell.execute_reply": "2024-08-25T21:45:27.561675Z"
        },
        "trusted": true,
        "id": "xNzIP9AbzX-7"
      },
      "execution_count": null,
      "outputs": []
    },
    {
      "cell_type": "markdown",
      "source": [
        "***drop least important features with feature importance(code at the last of the notebook before test predictions)***"
      ],
      "metadata": {
        "papermill": {
          "duration": 0.013005,
          "end_time": "2024-08-16T07:24:31.1217",
          "exception": false,
          "start_time": "2024-08-16T07:24:31.108695",
          "status": "completed"
        },
        "tags": [],
        "id": "qm6RkB7szX-7"
      }
    },
    {
      "cell_type": "code",
      "source": [
        "#they are detected at the first run\n",
        "least_important_features = ['onehot_32', 'onehot_6', 'onehot_33', 'onehot_30', 'onehot_26', 'onehot_22', 'onehot_36', 'onehot_4']\n",
        "#they are detected after the least_important_features are removed and it has increased cv score also so I add it\n",
        "#least_important_features_2 = ['onehot_17', 'onehot_42', 'onehot_29', 'onehot_13', 'onehot_25']\n",
        "#least_important_features += least_important_features_2\n",
        "df_train.drop(columns =least_important_features,inplace = True)\n",
        "for feature in least_important_features:\n",
        "    cat_cols.remove(feature)\n",
        "    feature_cols.remove(feature)"
      ],
      "metadata": {
        "papermill": {
          "duration": 0.228497,
          "end_time": "2024-08-16T07:24:31.363324",
          "exception": false,
          "start_time": "2024-08-16T07:24:31.134827",
          "status": "completed"
        },
        "tags": [],
        "execution": {
          "iopub.status.busy": "2024-08-25T21:45:27.563679Z",
          "iopub.execute_input": "2024-08-25T21:45:27.563961Z",
          "iopub.status.idle": "2024-08-25T21:45:27.774722Z",
          "shell.execute_reply.started": "2024-08-25T21:45:27.563937Z",
          "shell.execute_reply": "2024-08-25T21:45:27.773708Z"
        },
        "trusted": true,
        "id": "9a9IakkazX-7"
      },
      "execution_count": null,
      "outputs": []
    },
    {
      "cell_type": "markdown",
      "source": [
        "# MODEL INITIALIZATION"
      ],
      "metadata": {
        "papermill": {
          "duration": 0.013243,
          "end_time": "2024-08-16T07:24:31.390782",
          "exception": false,
          "start_time": "2024-08-16T07:24:31.377539",
          "status": "completed"
        },
        "tags": [],
        "id": "i2eDQkqjzX-8"
      }
    },
    {
      "cell_type": "code",
      "source": [
        "from sklearn.base import BaseEstimator, TransformerMixin\n",
        "import copy\n",
        "\n",
        "feature_cols_without_image_cols = copy.copy(feature_cols)\n",
        "feature_cols += image_cols\n",
        "\n",
        "class SelectColumns(BaseEstimator, TransformerMixin):\n",
        "    def __init__(self, columns):\n",
        "        self.columns = columns\n",
        "    def fit(self, X, y=None):\n",
        "        return self\n",
        "    def transform(self, X):\n",
        "        return X[self.columns]"
      ],
      "metadata": {
        "papermill": {
          "duration": 0.021771,
          "end_time": "2024-08-16T07:24:31.42559",
          "exception": false,
          "start_time": "2024-08-16T07:24:31.403819",
          "status": "completed"
        },
        "tags": [],
        "execution": {
          "iopub.status.busy": "2024-08-25T21:45:27.776147Z",
          "iopub.execute_input": "2024-08-25T21:45:27.776552Z",
          "iopub.status.idle": "2024-08-25T21:45:27.78374Z",
          "shell.execute_reply.started": "2024-08-25T21:45:27.776515Z",
          "shell.execute_reply": "2024-08-25T21:45:27.782759Z"
        },
        "trusted": true,
        "id": "NKBU1qYkzX-8"
      },
      "execution_count": null,
      "outputs": []
    },
    {
      "cell_type": "code",
      "source": [
        "lgb_params = {\n",
        "    'objective':        'binary',\n",
        "    'verbosity':        -1,\n",
        "    'n_iter':           200,\n",
        "    'boosting_type':    'gbdt',\n",
        "    'random_state':     seed,\n",
        "    'lambda_l1':        0.08758718919397321,\n",
        "    'lambda_l2':        0.0039689175176025465,\n",
        "    'learning_rate':    0.03231007103195577,\n",
        "    'max_depth':        4,\n",
        "    'num_leaves':       103,\n",
        "    'colsample_bytree': 0.8329551585827726,\n",
        "    'colsample_bynode': 0.4025961355653304,\n",
        "    'bagging_fraction': 0.7738954452473223,\n",
        "    'bagging_freq':     4,\n",
        "    'min_data_in_leaf': 85,\n",
        "    'scale_pos_weight': 2.7984184778875543,\n",
        "}\n",
        "\n",
        "\n",
        "sampling_ratio = 0.01\n",
        "seed =42\n",
        "\n",
        "lgb_model = Pipeline([\n",
        "    ('sampler_1', RandomOverSampler(sampling_strategy= 0.003 , random_state=seed)),\n",
        "    ('sampler_2', RandomUnderSampler(sampling_strategy=sampling_ratio, random_state=seed)),\n",
        "    ('filter', SelectColumns(feature_cols_without_image_cols)),\n",
        "    ('classifier', lgb.LGBMClassifier(**lgb_params)),\n",
        "])"
      ],
      "metadata": {
        "papermill": {
          "duration": 0.023367,
          "end_time": "2024-08-16T07:24:31.462111",
          "exception": false,
          "start_time": "2024-08-16T07:24:31.438744",
          "status": "completed"
        },
        "tags": [],
        "execution": {
          "iopub.status.busy": "2024-08-25T21:45:27.785122Z",
          "iopub.execute_input": "2024-08-25T21:45:27.785626Z",
          "iopub.status.idle": "2024-08-25T21:45:27.796458Z",
          "shell.execute_reply.started": "2024-08-25T21:45:27.785593Z",
          "shell.execute_reply": "2024-08-25T21:45:27.795579Z"
        },
        "trusted": true,
        "id": "jWkg8PLYzX-8"
      },
      "execution_count": null,
      "outputs": []
    },
    {
      "cell_type": "code",
      "source": [
        "cb_params = {\n",
        "    'loss_function':     'Logloss',\n",
        "    'iterations':        250,\n",
        "    'verbose':           False,\n",
        "    'random_state':      seed,\n",
        "    'max_depth':         7,\n",
        "    'learning_rate':     0.06936242010150652,\n",
        "    'scale_pos_weight':  2.6149345838209532,\n",
        "    'l2_leaf_reg':       6.216113851699493,\n",
        "    'subsample':         0.6249261779711819,\n",
        "    'min_data_in_leaf':  24,\n",
        "    'cat_features':      cat_cols,\n",
        "}\n",
        "cb_model = Pipeline([\n",
        "    ('sampler_1', RandomOverSampler(sampling_strategy= 0.003 , random_state=seed)),\n",
        "    ('sampler_2', RandomUnderSampler(sampling_strategy=sampling_ratio, random_state=seed)),\n",
        "    ('classifier', cb.CatBoostClassifier(**cb_params)),\n",
        "])"
      ],
      "metadata": {
        "papermill": {
          "duration": 0.023853,
          "end_time": "2024-08-16T07:24:31.499001",
          "exception": false,
          "start_time": "2024-08-16T07:24:31.475148",
          "status": "completed"
        },
        "tags": [],
        "execution": {
          "iopub.status.busy": "2024-08-25T21:45:27.797433Z",
          "iopub.execute_input": "2024-08-25T21:45:27.797736Z",
          "iopub.status.idle": "2024-08-25T21:45:27.812728Z",
          "shell.execute_reply.started": "2024-08-25T21:45:27.79769Z",
          "shell.execute_reply": "2024-08-25T21:45:27.811901Z"
        },
        "trusted": true,
        "id": "wwe8bltCzX-8"
      },
      "execution_count": null,
      "outputs": []
    },
    {
      "cell_type": "code",
      "source": [
        "xgb_params = {\n",
        "    'enable_categorical': True,\n",
        "    'tree_method':        'hist',\n",
        "    'random_state':       seed,\n",
        "    'learning_rate':      0.08501257473292347,\n",
        "    'lambda':             8.879624125465703,\n",
        "    'alpha':              0.6779926606782505,\n",
        "    'max_depth':          6,\n",
        "    'subsample':          0.6012681388711075,\n",
        "    'colsample_bytree':   0.8437772277074493,\n",
        "    'colsample_bylevel':  0.5476090898823716,\n",
        "    'colsample_bynode':   0.9928601203635129,\n",
        "    'scale_pos_weight':   3.29440313334688,\n",
        "}\n",
        "\n",
        "xgb_model = Pipeline([\n",
        "    ('sampler_1', RandomOverSampler(sampling_strategy= 0.003 , random_state=seed)),\n",
        "    ('sampler_2', RandomUnderSampler(sampling_strategy=sampling_ratio, random_state=seed)),\n",
        "    ('classifier', xgb.XGBClassifier(**xgb_params)),\n",
        "])"
      ],
      "metadata": {
        "papermill": {
          "duration": 0.021705,
          "end_time": "2024-08-16T07:24:31.533886",
          "exception": false,
          "start_time": "2024-08-16T07:24:31.512181",
          "status": "completed"
        },
        "tags": [],
        "execution": {
          "iopub.status.busy": "2024-08-25T21:45:27.81402Z",
          "iopub.execute_input": "2024-08-25T21:45:27.814418Z",
          "iopub.status.idle": "2024-08-25T21:45:27.82319Z",
          "shell.execute_reply.started": "2024-08-25T21:45:27.814385Z",
          "shell.execute_reply": "2024-08-25T21:45:27.822273Z"
        },
        "trusted": true,
        "id": "cIHl1IHbzX-8"
      },
      "execution_count": null,
      "outputs": []
    },
    {
      "cell_type": "code",
      "source": [
        "estimator = VotingClassifier([\n",
        "    ('lgb', lgb_model), ('cb', cb_model), ('xgb', xgb_model),\n",
        "], voting='soft',weights=[0.30,0.47,0.28])"
      ],
      "metadata": {
        "papermill": {
          "duration": 0.062523,
          "end_time": "2024-08-16T07:24:31.609473",
          "exception": false,
          "start_time": "2024-08-16T07:24:31.54695",
          "status": "completed"
        },
        "tags": [],
        "execution": {
          "iopub.status.busy": "2024-08-25T21:45:27.8244Z",
          "iopub.execute_input": "2024-08-25T21:45:27.825478Z",
          "iopub.status.idle": "2024-08-25T21:45:27.835369Z",
          "shell.execute_reply.started": "2024-08-25T21:45:27.825444Z",
          "shell.execute_reply": "2024-08-25T21:45:27.834593Z"
        },
        "trusted": true,
        "id": "c8Bi043ezX-8"
      },
      "execution_count": null,
      "outputs": []
    },
    {
      "cell_type": "markdown",
      "source": [
        "# CROSS VALIDATION"
      ],
      "metadata": {
        "papermill": {
          "duration": 0.012817,
          "end_time": "2024-08-16T07:24:31.635376",
          "exception": false,
          "start_time": "2024-08-16T07:24:31.622559",
          "status": "completed"
        },
        "tags": [],
        "id": "HNApRVpLzX-9"
      }
    },
    {
      "cell_type": "code",
      "source": [
        "X = df_train[feature_cols]\n",
        "y = df_train[target_col]\n",
        "groups = df_train[group_col]\n",
        "cv = StratifiedGroupKFold(5, shuffle=True, random_state=seed)\n",
        "\n",
        "val_score = cross_val_score(\n",
        "    estimator=estimator,\n",
        "    X=X, y=y,\n",
        "    cv=cv,\n",
        "    groups=groups,\n",
        "    scoring=custom_metric,\n",
        ")\n",
        "\n",
        "np.mean(val_score), val_score\n",
        "\n",
        "# +edgenext (0.19038159621700457, [0.19015561, 0.18941902, 0.19590514, 0.18606745, 0.19036077] 0.183\n",
        "# +weights  (0.19066216984004480, [0.19070906, 0.1896957 , 0.19616528, 0.18614882, 0.190592  ] 0.184\n",
        "\n",
        "# -effnet   (0.18987889830512752, [0.18971091, 0.18931136, 0.19485962, 0.18605283, 0.18945978] 0.181\n",
        "# - eva02   (0.19081849515322882, [0.19082289, 0.19061405, 0.19518206, 0.18672829, 0.19074519] 1.182\n",
        "# - eva02+w (0.19113308863140904, [0.19133708, 0.19112789, 0.19532577, 0.18687661, 0.19099809]\n",
        "\n",
        "# lgb iter=250\n",
        "# -edgnxt-w (0.18642596695770353, [0.1805222 , 0.18525265, 0.1937967 , 0.18230418, 0.19025411]\n",
        "# lgb iter=200\n",
        "# -edgnxt-w (0.18618910848030850, [0.18019314, 0.18502224, 0.19367554, 0.18202533, 0.19002929]\n",
        "# lgb iter=200\n",
        "# -edgnxt-w (0.18668163920844750, [0.18131607, 0.18526876, 0.19415136, 0.18244858, 0.19022342] 0.183  V32\n",
        "# lgb iter=200\n",
        "# -edgnxt+w (0.18701131376334698, [0.18175392, 0.18589138, 0.19438251, 0.18259752, 0.19043124] 0.18?  V33"
      ],
      "metadata": {
        "papermill": {
          "duration": 215.447971,
          "end_time": "2024-08-16T07:28:07.096341",
          "exception": false,
          "start_time": "2024-08-16T07:24:31.64837",
          "status": "completed"
        },
        "tags": [],
        "execution": {
          "iopub.status.busy": "2024-08-25T21:45:27.836394Z",
          "iopub.execute_input": "2024-08-25T21:45:27.836662Z",
          "iopub.status.idle": "2024-08-25T21:49:06.643244Z",
          "shell.execute_reply.started": "2024-08-25T21:45:27.836639Z",
          "shell.execute_reply": "2024-08-25T21:49:06.642268Z"
        },
        "trusted": true,
        "id": "Klt0RqRMzX-9"
      },
      "execution_count": null,
      "outputs": []
    },
    {
      "cell_type": "markdown",
      "source": [
        "# HYPERPARAMETER TUNING"
      ],
      "metadata": {
        "papermill": {
          "duration": 0.013596,
          "end_time": "2024-08-16T07:28:07.12358",
          "exception": false,
          "start_time": "2024-08-16T07:28:07.109984",
          "status": "completed"
        },
        "tags": [],
        "id": "8viVbwrwzX-9"
      }
    },
    {
      "cell_type": "code",
      "source": [
        "DO_TUNING = False"
      ],
      "metadata": {
        "papermill": {
          "duration": 0.020591,
          "end_time": "2024-08-16T07:28:07.158022",
          "exception": false,
          "start_time": "2024-08-16T07:28:07.137431",
          "status": "completed"
        },
        "tags": [],
        "execution": {
          "iopub.status.busy": "2024-08-25T21:49:06.644623Z",
          "iopub.execute_input": "2024-08-25T21:49:06.644994Z",
          "iopub.status.idle": "2024-08-25T21:49:06.649902Z",
          "shell.execute_reply.started": "2024-08-25T21:49:06.64496Z",
          "shell.execute_reply": "2024-08-25T21:49:06.649009Z"
        },
        "trusted": true,
        "id": "HvI_qfA6zX-9"
      },
      "execution_count": null,
      "outputs": []
    },
    {
      "cell_type": "code",
      "source": [
        "def lgb_objective(trial):\n",
        "    params = {\n",
        "        'objective':         'binary',\n",
        "        'verbosity':         -1,\n",
        "        'n_iter': 200,\n",
        "        'boosting_type':  'gbdt',\n",
        "        'lambda_l1':         trial.suggest_float('lambda_l1', 1e-3, 10.0, log=True),\n",
        "        'lambda_l2':         trial.suggest_float('lambda_l2', 1e-3, 10.0, log=True),\n",
        "        'learning_rate':     trial.suggest_float('learning_rate', 1e-2, 1e-1, log=True),\n",
        "        'max_depth':         trial.suggest_int('max_depth', 4, 8),\n",
        "        'num_leaves':        trial.suggest_int('num_leaves', 16, 256),\n",
        "        'colsample_bytree':  trial.suggest_float('colsample_bytree', 0.4, 1.0),\n",
        "        'colsample_bynode':  trial.suggest_float('colsample_bynode', 0.4, 1.0),\n",
        "        'bagging_fraction':  trial.suggest_float('bagging_fraction', 0.4, 1.0),\n",
        "        'bagging_freq':      trial.suggest_int('bagging_freq', 1, 7),\n",
        "        'min_data_in_leaf':  trial.suggest_int('min_data_in_leaf', 5, 100),\n",
        "        'scale_pos_weight' : trial.suggest_float('scale_pos_weight', 0.8, 4.0),\n",
        "    }\n",
        "\n",
        "    estimator = Pipeline([\n",
        "        ('sampler', RandomUnderSampler(sampling_strategy=sampling_ratio)),\n",
        "        ('classifier', lgb.LGBMClassifier(**params)),\n",
        "    ])\n",
        "\n",
        "    X = df_train[feature_cols]\n",
        "    y = df_train[target_col]\n",
        "    groups = df_train[group_col]\n",
        "    cv = StratifiedGroupKFold(5, shuffle=True)\n",
        "\n",
        "    val_score = cross_val_score(\n",
        "        estimator=estimator,\n",
        "        X=X, y=y,\n",
        "        cv=cv,\n",
        "        groups=groups,\n",
        "        scoring=custom_metric,\n",
        "    )\n",
        "\n",
        "    return np.mean(val_score)"
      ],
      "metadata": {
        "papermill": {
          "duration": 0.026106,
          "end_time": "2024-08-16T07:28:07.197738",
          "exception": false,
          "start_time": "2024-08-16T07:28:07.171632",
          "status": "completed"
        },
        "tags": [],
        "execution": {
          "iopub.status.busy": "2024-08-25T21:49:06.651064Z",
          "iopub.execute_input": "2024-08-25T21:49:06.651344Z",
          "iopub.status.idle": "2024-08-25T21:49:06.663928Z",
          "shell.execute_reply.started": "2024-08-25T21:49:06.65132Z",
          "shell.execute_reply": "2024-08-25T21:49:06.662913Z"
        },
        "trusted": true,
        "id": "hY4S7c97zX--"
      },
      "execution_count": null,
      "outputs": []
    },
    {
      "cell_type": "code",
      "source": [
        "def cb_objective(trial):\n",
        "    params = {\n",
        "        'loss_function':     'Logloss',\n",
        "        'iterations':        200,\n",
        "        'verbose':           False,\n",
        "        'random_state':      seed,\n",
        "        'learning_rate':     trial.suggest_float('learning_rate', 1e-2, 1e-1, log=True),\n",
        "        'max_depth':         trial.suggest_int('max_depth', 4, 8),\n",
        "        'l2_leaf_reg':       trial.suggest_float('l2_leaf_reg', 1e-3, 10.0, log=True),\n",
        "        'subsample':         trial.suggest_float('subsample', 0.4, 1.0),\n",
        "        'colsample_bylevel': trial.suggest_float('colsample_bylevel', 0.4, 1.0),\n",
        "        'min_data_in_leaf':  trial.suggest_int('min_data_in_leaf', 5, 100),\n",
        "        'scale_pos_weight':  trial.suggest_float('scale_pos_weight', 0.8, 4.0),\n",
        "        'bootstrap_type':    'Bayesian',  # Optional: depending on your use case, you may want to tune this as well\n",
        "    }\n",
        "\n",
        "    estimator = Pipeline([\n",
        "        ('sampler', RandomUnderSampler(sampling_strategy=sampling_ratio)),\n",
        "        ('classifier', cb.CatBoostClassifier(**params)),\n",
        "    ])\n",
        "\n",
        "    X = df_train[feature_cols]\n",
        "    y = df_train[target_col]\n",
        "    groups = df_train[group_col]\n",
        "    cv = StratifiedGroupKFold(5, shuffle=True)\n",
        "\n",
        "    val_score = cross_val_score(\n",
        "        estimator=estimator,\n",
        "        X=X, y=y,\n",
        "        cv=cv,\n",
        "        groups=groups,\n",
        "        scoring=custom_metric,\n",
        "    )\n",
        "\n",
        "    return np.mean(val_score)"
      ],
      "metadata": {
        "papermill": {
          "duration": 0.024417,
          "end_time": "2024-08-16T07:28:07.23602",
          "exception": false,
          "start_time": "2024-08-16T07:28:07.211603",
          "status": "completed"
        },
        "tags": [],
        "jupyter": {
          "source_hidden": true
        },
        "execution": {
          "iopub.status.busy": "2024-08-25T21:49:06.665299Z",
          "iopub.execute_input": "2024-08-25T21:49:06.665598Z",
          "iopub.status.idle": "2024-08-25T21:49:06.678238Z",
          "shell.execute_reply.started": "2024-08-25T21:49:06.665575Z",
          "shell.execute_reply": "2024-08-25T21:49:06.6772Z"
        },
        "trusted": true,
        "id": "si9fCTzZzX--"
      },
      "execution_count": null,
      "outputs": []
    },
    {
      "cell_type": "code",
      "source": [
        "def xgb_objective(trial):\n",
        "    params = {\n",
        "        'objective':          'binary:logistic',\n",
        "        'n_estimators':       200,\n",
        "        'tree_method':        'hist',\n",
        "        'random_state':       seed,\n",
        "        'learning_rate':      trial.suggest_float('learning_rate', 1e-2, 1e-1, log=True),\n",
        "        'max_depth':          trial.suggest_int('max_depth', 4, 8),\n",
        "        'lambda':             trial.suggest_float('lambda', 1e-3, 10.0, log=True),\n",
        "        'alpha':              trial.suggest_float('alpha', 1e-3, 10.0, log=True),\n",
        "        'subsample':          trial.suggest_float('subsample', 0.4, 1.0),\n",
        "        'colsample_bytree':   trial.suggest_float('colsample_bytree', 0.4, 1.0),\n",
        "        'colsample_bynode':   trial.suggest_float('colsample_bynode', 0.4, 1.0),\n",
        "        'scale_pos_weight':   trial.suggest_float('scale_pos_weight', 0.8, 4.0),\n",
        "    }\n",
        "\n",
        "    estimator = Pipeline([\n",
        "        ('sampler', RandomUnderSampler(sampling_strategy=sampling_ratio)),\n",
        "        ('classifier', xgb.XGBClassifier(**params)),\n",
        "    ])\n",
        "\n",
        "    X = df_train[feature_cols]\n",
        "    y = df_train[target_col]\n",
        "    groups = df_train[group_col]\n",
        "    cv = StratifiedGroupKFold(5, shuffle=True)\n",
        "\n",
        "    val_score = cross_val_score(\n",
        "        estimator=estimator,\n",
        "        X=X, y=y,\n",
        "        cv=cv,\n",
        "        groups=groups,\n",
        "        scoring=custom_metric,\n",
        "    )\n",
        "\n",
        "    return np.mean(val_score)"
      ],
      "metadata": {
        "papermill": {
          "duration": 0.024593,
          "end_time": "2024-08-16T07:28:07.274323",
          "exception": false,
          "start_time": "2024-08-16T07:28:07.24973",
          "status": "completed"
        },
        "tags": [],
        "jupyter": {
          "source_hidden": true
        },
        "execution": {
          "iopub.status.busy": "2024-08-25T21:49:06.679898Z",
          "iopub.execute_input": "2024-08-25T21:49:06.6803Z",
          "iopub.status.idle": "2024-08-25T21:49:06.692754Z",
          "shell.execute_reply.started": "2024-08-25T21:49:06.680265Z",
          "shell.execute_reply": "2024-08-25T21:49:06.691825Z"
        },
        "trusted": true,
        "id": "_77H7Dz3zX--"
      },
      "execution_count": null,
      "outputs": []
    },
    {
      "cell_type": "code",
      "source": [
        "if DO_TUNING:\n",
        "    # LightGBM\n",
        "    start_time = time.time()\n",
        "    study_lgb = optuna.create_study(direction='maximize', sampler=TPESampler(seed=seed))\n",
        "    study_lgb.optimize(objective_lgb, n_trials=100)\n",
        "    end_time = time.time()\n",
        "    elapsed_time_lgb = end_time - start_time\n",
        "    print(f\"LightGBM tuning took {elapsed_time_lgb:.2f} seconds.\")\n"
      ],
      "metadata": {
        "papermill": {
          "duration": 0.02125,
          "end_time": "2024-08-16T07:28:07.309305",
          "exception": false,
          "start_time": "2024-08-16T07:28:07.288055",
          "status": "completed"
        },
        "tags": [],
        "jupyter": {
          "source_hidden": true
        },
        "execution": {
          "iopub.status.busy": "2024-08-25T21:49:06.693806Z",
          "iopub.execute_input": "2024-08-25T21:49:06.69409Z",
          "iopub.status.idle": "2024-08-25T21:49:06.709171Z",
          "shell.execute_reply.started": "2024-08-25T21:49:06.694067Z",
          "shell.execute_reply": "2024-08-25T21:49:06.708014Z"
        },
        "trusted": true,
        "id": "l4r3f2pZzX-_"
      },
      "execution_count": null,
      "outputs": []
    },
    {
      "cell_type": "code",
      "source": [
        "if DO_TUNING:\n",
        "    # CatBoost\n",
        "    start_time = time.time()\n",
        "    study_cb = optuna.create_study(direction='maximize', sampler=TPESampler(seed=seed))\n",
        "    study_cb.optimize(objective_cb, n_trials=100)\n",
        "    end_time = time.time()\n",
        "    elapsed_time_cb = end_time - start_time\n",
        "    print(f\"CatBoost tuning took {elapsed_time_cb:.2f} seconds.\")"
      ],
      "metadata": {
        "papermill": {
          "duration": 0.021126,
          "end_time": "2024-08-16T07:28:07.344036",
          "exception": false,
          "start_time": "2024-08-16T07:28:07.32291",
          "status": "completed"
        },
        "tags": [],
        "jupyter": {
          "source_hidden": true
        },
        "execution": {
          "iopub.status.busy": "2024-08-25T21:49:06.710574Z",
          "iopub.execute_input": "2024-08-25T21:49:06.710956Z",
          "iopub.status.idle": "2024-08-25T21:49:06.719375Z",
          "shell.execute_reply.started": "2024-08-25T21:49:06.710919Z",
          "shell.execute_reply": "2024-08-25T21:49:06.718438Z"
        },
        "trusted": true,
        "id": "yZn-bPi5zX_A"
      },
      "execution_count": null,
      "outputs": []
    },
    {
      "cell_type": "code",
      "source": [
        "if DO_TUNING:\n",
        "    # XGBoost\n",
        "    start_time = time.time()\n",
        "    study_xgb = optuna.create_study(direction='maximize', sampler=TPESampler(seed=seed))\n",
        "    study_xgb.optimize(objective_xgb, n_trials=100)\n",
        "    end_time = time.time()\n",
        "    elapsed_time_xgb = end_time - start_time\n",
        "    print(f\"XGBoost tuning took {elapsed_time_xgb:.2f} seconds.\")"
      ],
      "metadata": {
        "papermill": {
          "duration": 0.020772,
          "end_time": "2024-08-16T07:28:07.378483",
          "exception": false,
          "start_time": "2024-08-16T07:28:07.357711",
          "status": "completed"
        },
        "tags": [],
        "jupyter": {
          "source_hidden": true
        },
        "execution": {
          "iopub.status.busy": "2024-08-25T21:49:06.720545Z",
          "iopub.execute_input": "2024-08-25T21:49:06.721376Z",
          "iopub.status.idle": "2024-08-25T21:49:06.730012Z",
          "shell.execute_reply.started": "2024-08-25T21:49:06.721344Z",
          "shell.execute_reply": "2024-08-25T21:49:06.729106Z"
        },
        "trusted": true,
        "id": "OBXqtNhWzX_B"
      },
      "execution_count": null,
      "outputs": []
    },
    {
      "cell_type": "code",
      "source": [
        "if DO_TUNING:\n",
        "    # Print best parameters for each study\n",
        "    print(\"Best LGBM trial:\", study_lgb.best_trial)\n",
        "    print(\"Best CatBoost trial:\", study_cb.best_trial)\n",
        "    print(\"Best XGBoost trial:\", study_xgb.best_trial)"
      ],
      "metadata": {
        "papermill": {
          "duration": 0.020339,
          "end_time": "2024-08-16T07:28:07.412436",
          "exception": false,
          "start_time": "2024-08-16T07:28:07.392097",
          "status": "completed"
        },
        "tags": [],
        "jupyter": {
          "source_hidden": true
        },
        "execution": {
          "iopub.status.busy": "2024-08-25T21:49:06.731314Z",
          "iopub.execute_input": "2024-08-25T21:49:06.731589Z",
          "iopub.status.idle": "2024-08-25T21:49:06.742228Z",
          "shell.execute_reply.started": "2024-08-25T21:49:06.731566Z",
          "shell.execute_reply": "2024-08-25T21:49:06.741434Z"
        },
        "trusted": true,
        "id": "1EPtz-sOzX_B"
      },
      "execution_count": null,
      "outputs": []
    },
    {
      "cell_type": "markdown",
      "source": [
        "# TRAINING"
      ],
      "metadata": {
        "papermill": {
          "duration": 0.01343,
          "end_time": "2024-08-16T07:28:07.439452",
          "exception": false,
          "start_time": "2024-08-16T07:28:07.426022",
          "status": "completed"
        },
        "tags": [],
        "id": "mop6z5fRzX_B"
      }
    },
    {
      "cell_type": "code",
      "source": [
        "X, y = df_train[feature_cols], df_train[target_col]\n",
        "\n",
        "estimator.fit(X, y)"
      ],
      "metadata": {
        "papermill": {
          "duration": 48.796521,
          "end_time": "2024-08-16T07:28:56.24972",
          "exception": false,
          "start_time": "2024-08-16T07:28:07.453199",
          "status": "completed"
        },
        "tags": [],
        "execution": {
          "iopub.status.busy": "2024-08-25T21:49:06.747248Z",
          "iopub.execute_input": "2024-08-25T21:49:06.747583Z",
          "iopub.status.idle": "2024-08-25T21:49:57.829967Z",
          "shell.execute_reply.started": "2024-08-25T21:49:06.747551Z",
          "shell.execute_reply": "2024-08-25T21:49:57.829044Z"
        },
        "trusted": true,
        "id": "yWMmHER8zX_C"
      },
      "execution_count": null,
      "outputs": []
    },
    {
      "cell_type": "markdown",
      "source": [
        "# LOOKING FOR FEATURE IMPORTANCE(lgb + xgb)"
      ],
      "metadata": {
        "papermill": {
          "duration": 0.01413,
          "end_time": "2024-08-16T07:28:56.278194",
          "exception": false,
          "start_time": "2024-08-16T07:28:56.264064",
          "status": "completed"
        },
        "tags": [],
        "id": "m9pDuTfhzX_C"
      }
    },
    {
      "cell_type": "code",
      "source": [
        "DO_FEATURE_IMPORTANCE_MODELS = False"
      ],
      "metadata": {
        "papermill": {
          "duration": 0.02113,
          "end_time": "2024-08-16T07:28:56.313451",
          "exception": false,
          "start_time": "2024-08-16T07:28:56.292321",
          "status": "completed"
        },
        "tags": [],
        "jupyter": {
          "source_hidden": true
        },
        "execution": {
          "iopub.status.busy": "2024-08-25T21:49:57.831297Z",
          "iopub.execute_input": "2024-08-25T21:49:57.831659Z",
          "iopub.status.idle": "2024-08-25T21:49:57.836332Z",
          "shell.execute_reply.started": "2024-08-25T21:49:57.831627Z",
          "shell.execute_reply": "2024-08-25T21:49:57.835379Z"
        },
        "trusted": true,
        "id": "_jkL7IeAzX_C"
      },
      "execution_count": null,
      "outputs": []
    },
    {
      "cell_type": "code",
      "source": [
        "if DO_FEATURE_IMPORTANCE_MODELS:\n",
        "    lgb_model = estimator.named_estimators_['lgb'].named_steps['classifier']\n",
        "    lgb_feature_importance = lgb_model.booster_.feature_importance(importance_type='gain')\n",
        "    lgb_feature_importance_df = pd.DataFrame({\n",
        "        'feature': X.columns,\n",
        "        'importance': lgb_feature_importance\n",
        "    }).sort_values(by='importance', ascending=False)\n",
        "\n",
        "\n",
        "    xgb_model = estimator.named_estimators_['xgb'].named_steps['classifier']\n",
        "    xgb_feature_importance = xgb_model.get_booster().get_score(importance_type='weight')\n",
        "    xgb_feature_importance_df = pd.DataFrame({\n",
        "        'feature': xgb_feature_importance.keys(),\n",
        "        'importance': xgb_feature_importance.values()\n",
        "    }).sort_values(by='importance', ascending=False)\n",
        "\n",
        "\n"
      ],
      "metadata": {
        "papermill": {
          "duration": 0.022817,
          "end_time": "2024-08-16T07:28:56.350442",
          "exception": false,
          "start_time": "2024-08-16T07:28:56.327625",
          "status": "completed"
        },
        "tags": [],
        "jupyter": {
          "source_hidden": true
        },
        "execution": {
          "iopub.status.busy": "2024-08-25T21:49:57.837552Z",
          "iopub.execute_input": "2024-08-25T21:49:57.83784Z",
          "iopub.status.idle": "2024-08-25T21:49:57.849083Z",
          "shell.execute_reply.started": "2024-08-25T21:49:57.837808Z",
          "shell.execute_reply": "2024-08-25T21:49:57.848243Z"
        },
        "trusted": true,
        "id": "uxdy_7jQzX_C"
      },
      "execution_count": null,
      "outputs": []
    },
    {
      "cell_type": "code",
      "source": [
        "if DO_FEATURE_IMPORTANCE_MODELS:\n",
        "\n",
        "    print(lgb_feature_importance_df)\n",
        "    print(xgb_feature_importance_df)"
      ],
      "metadata": {
        "papermill": {
          "duration": 0.020573,
          "end_time": "2024-08-16T07:28:56.385147",
          "exception": false,
          "start_time": "2024-08-16T07:28:56.364574",
          "status": "completed"
        },
        "tags": [],
        "jupyter": {
          "source_hidden": true
        },
        "execution": {
          "iopub.status.busy": "2024-08-25T21:49:57.850431Z",
          "iopub.execute_input": "2024-08-25T21:49:57.850801Z",
          "iopub.status.idle": "2024-08-25T21:49:57.859651Z",
          "shell.execute_reply.started": "2024-08-25T21:49:57.850767Z",
          "shell.execute_reply": "2024-08-25T21:49:57.858775Z"
        },
        "trusted": true,
        "id": "xNQn__WAzX_C"
      },
      "execution_count": null,
      "outputs": []
    },
    {
      "cell_type": "markdown",
      "source": [
        "# LEAST IMPORTANT FEATURES"
      ],
      "metadata": {
        "papermill": {
          "duration": 0.013909,
          "end_time": "2024-08-16T07:28:56.413196",
          "exception": false,
          "start_time": "2024-08-16T07:28:56.399287",
          "status": "completed"
        },
        "tags": [],
        "id": "FlfvRa7azX_I"
      }
    },
    {
      "cell_type": "code",
      "source": [
        "if DO_FEATURE_IMPORTANCE_MODELS:\n",
        "\n",
        "    # Assuming lgb_feature_importance_df is already created and contains the feature importances\n",
        "    least_important_lgb = lgb_feature_importance_df.sort_values(by='importance').head(24)\n",
        "\n",
        "    print(\"Least Important Features in LightGBM:\")\n",
        "    print(least_important_lgb)\n",
        "\n",
        "    # Convert the xgb_feature_importance to a DataFrame for easier manipulation\n",
        "    least_important_xgb = xgb_feature_importance_df.sort_values(by = \"importance\").head(6)\n",
        "\n",
        "\n",
        "    print(\"\\nLeast Important Features in XGBoost:\")\n",
        "    print(least_important_xgb)"
      ],
      "metadata": {
        "papermill": {
          "duration": 0.021611,
          "end_time": "2024-08-16T07:28:56.449047",
          "exception": false,
          "start_time": "2024-08-16T07:28:56.427436",
          "status": "completed"
        },
        "tags": [],
        "jupyter": {
          "source_hidden": true
        },
        "execution": {
          "iopub.status.busy": "2024-08-25T21:49:57.860856Z",
          "iopub.execute_input": "2024-08-25T21:49:57.861179Z",
          "iopub.status.idle": "2024-08-25T21:49:57.87162Z",
          "shell.execute_reply.started": "2024-08-25T21:49:57.861154Z",
          "shell.execute_reply": "2024-08-25T21:49:57.870889Z"
        },
        "trusted": true,
        "id": "0n3I0repzX_I"
      },
      "execution_count": null,
      "outputs": []
    },
    {
      "cell_type": "code",
      "source": [
        "if DO_FEATURE_IMPORTANCE_MODELS:\n",
        "\n",
        "    # Extract the least important feature names from both LightGBM and XGBoost\n",
        "    least_important_lgb_features = least_important_lgb['feature'].tolist()\n",
        "    least_important_xgb_features = least_important_xgb['feature'].tolist()\n",
        "\n",
        "    # Find the intersection of the two lists\n",
        "    common_least_important_features = list(set(least_important_lgb_features) & set(least_important_xgb_features))\n",
        "\n",
        "    print(\"Common Least Important Features in Both LightGBM and XGBoost:\")\n",
        "    print(common_least_important_features)\n"
      ],
      "metadata": {
        "papermill": {
          "duration": 0.021335,
          "end_time": "2024-08-16T07:28:56.484435",
          "exception": false,
          "start_time": "2024-08-16T07:28:56.4631",
          "status": "completed"
        },
        "tags": [],
        "jupyter": {
          "source_hidden": true
        },
        "execution": {
          "iopub.status.busy": "2024-08-25T21:49:57.872723Z",
          "iopub.execute_input": "2024-08-25T21:49:57.873017Z",
          "iopub.status.idle": "2024-08-25T21:49:57.883941Z",
          "shell.execute_reply.started": "2024-08-25T21:49:57.872994Z",
          "shell.execute_reply": "2024-08-25T21:49:57.883142Z"
        },
        "trusted": true,
        "id": "fCecuUTozX_I"
      },
      "execution_count": null,
      "outputs": []
    },
    {
      "cell_type": "markdown",
      "source": [
        "# LOOKING FOR FEATURE IMPORTANCE(Tests)"
      ],
      "metadata": {
        "papermill": {
          "duration": 0.013812,
          "end_time": "2024-08-16T07:28:56.512331",
          "exception": false,
          "start_time": "2024-08-16T07:28:56.498519",
          "status": "completed"
        },
        "tags": [],
        "id": "JDXLYkrJzX_J"
      }
    },
    {
      "cell_type": "code",
      "source": [
        "DO_FEATURE_IMPORTANCE_TEST = False"
      ],
      "metadata": {
        "papermill": {
          "duration": 0.020049,
          "end_time": "2024-08-16T07:28:56.546465",
          "exception": false,
          "start_time": "2024-08-16T07:28:56.526416",
          "status": "completed"
        },
        "tags": [],
        "jupyter": {
          "source_hidden": true
        },
        "execution": {
          "iopub.status.busy": "2024-08-25T21:49:57.884932Z",
          "iopub.execute_input": "2024-08-25T21:49:57.885274Z",
          "iopub.status.idle": "2024-08-25T21:49:57.893515Z",
          "shell.execute_reply.started": "2024-08-25T21:49:57.885242Z",
          "shell.execute_reply": "2024-08-25T21:49:57.892661Z"
        },
        "trusted": true,
        "id": "mDg2nVrhzX_J"
      },
      "execution_count": null,
      "outputs": []
    },
    {
      "cell_type": "code",
      "source": [
        "if DO_FEATURE_IMPORTANCE_TEST:\n",
        "    X = df_train[feature_cols]\n",
        "    y = df_train[target_col]\n",
        "\n",
        "    # Separate continuous and categorical features\n",
        "    continuous_features = num_cols + norm_cols + new_num_cols\n",
        "    # Fill null values of continuous features with their median values\n",
        "    X[continuous_features] = X[continuous_features].apply(lambda x: x.fillna(x.median()))\n",
        "\n",
        "\n",
        "    # Correlation Matrix for continuous features\n",
        "    corr_matrix = df_train[continuous_features + ['target']].corr()\n",
        "    threshold = 0.01\n",
        "    relevant_features_corr = corr_matrix[abs(corr_matrix['target']) > threshold].index\n",
        "    selected_features_corr = relevant_features_corr.drop('target')\n",
        "    print(\"Selected continuous features based on correlation threshold:\")\n",
        "    print(selected_features_corr)\n",
        "    print(len(selected_features_corr))\n",
        "\n",
        "    # Chi-Square Test for categorical features\n",
        "    chi2_selector = SelectKBest(chi2, k=15)\n",
        "    chi2_selector.fit_transform(X[cat_cols], y)\n",
        "    selected_features_chi2 = X[cat_cols].columns[chi2_selector.get_support()]\n",
        "    print(\"Selected categorical features based on Chi-Square Test:\")\n",
        "    print(selected_features_chi2)\n",
        "\n",
        "    # Mutual Information for all features\n",
        "    mi_selector = SelectKBest(mutual_info_classif, k=15)\n",
        "    mi_selector.fit_transform(X, y)\n",
        "    selected_features_mi = X.columns[mi_selector.get_support()]\n",
        "    print(\"Selected features based on Mutual Information:\")\n",
        "    print(selected_features_mi)\n",
        "\n",
        "    # Variance Threshold for continuous features\n",
        "    threshold = 0.05\n",
        "    var_threshold = VarianceThreshold(threshold=threshold)\n",
        "    var_threshold.fit_transform(X[continuous_features])\n",
        "    selected_features_var = X[continuous_features].columns[var_threshold.get_support()]\n",
        "    print(\"Selected continuous features based on Variance Threshold:\")\n",
        "    print(selected_features_var)\n",
        "    print(len(selected_features_var))\n",
        "\n",
        "\n",
        "    # Combine all selected features\n",
        "    selected_features_all = set(selected_features_corr) | set(selected_features_chi2) | set(selected_features_mi) | set(selected_features_var)\n",
        "\n",
        "    # Original features\n",
        "    original_features = set(X.columns)\n",
        "\n",
        "    # Find features not selected by any method\n",
        "    least_selected_features = original_features - selected_features_all\n",
        "\n",
        "    boosting_selected_features = set()\n",
        "\n",
        "    least_selected_features_list = list(least_selected_features | boosting_selected_features)\n",
        "\n",
        "    print(least_selected_features)"
      ],
      "metadata": {
        "papermill": {
          "duration": 0.027284,
          "end_time": "2024-08-16T07:28:56.58785",
          "exception": false,
          "start_time": "2024-08-16T07:28:56.560566",
          "status": "completed"
        },
        "tags": [],
        "jupyter": {
          "source_hidden": true
        },
        "execution": {
          "iopub.status.busy": "2024-08-25T21:49:57.894671Z",
          "iopub.execute_input": "2024-08-25T21:49:57.894986Z",
          "iopub.status.idle": "2024-08-25T21:49:57.906862Z",
          "shell.execute_reply.started": "2024-08-25T21:49:57.894962Z",
          "shell.execute_reply": "2024-08-25T21:49:57.906105Z"
        },
        "trusted": true,
        "id": "uCzKLWKszX_J"
      },
      "execution_count": null,
      "outputs": []
    },
    {
      "cell_type": "markdown",
      "source": [
        "# TEST PREDICTION"
      ],
      "metadata": {
        "papermill": {
          "duration": 0.013922,
          "end_time": "2024-08-16T07:28:56.615836",
          "exception": false,
          "start_time": "2024-08-16T07:28:56.601914",
          "status": "completed"
        },
        "tags": [],
        "id": "PaWc97ONzX_J"
      }
    },
    {
      "cell_type": "code",
      "source": [
        "df_subm['target'] = estimator.predict_proba(df_test[feature_cols])[:, 1]\n",
        "\n",
        "df_subm.to_csv('submission.csv')\n",
        "df_subm.head()"
      ],
      "metadata": {
        "papermill": {
          "duration": 0.116204,
          "end_time": "2024-08-16T07:28:56.746162",
          "exception": false,
          "start_time": "2024-08-16T07:28:56.629958",
          "status": "completed"
        },
        "tags": [],
        "execution": {
          "iopub.status.busy": "2024-08-25T21:49:57.907957Z",
          "iopub.execute_input": "2024-08-25T21:49:57.908255Z",
          "iopub.status.idle": "2024-08-25T21:49:58.029475Z",
          "shell.execute_reply.started": "2024-08-25T21:49:57.908207Z",
          "shell.execute_reply": "2024-08-25T21:49:58.028592Z"
        },
        "trusted": true,
        "id": "yL3eKpxfzX_J"
      },
      "execution_count": null,
      "outputs": []
    }
  ]
}