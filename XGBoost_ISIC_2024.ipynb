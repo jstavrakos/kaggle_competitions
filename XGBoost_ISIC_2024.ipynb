{
  "metadata": {
    "kernelspec": {
      "language": "python",
      "display_name": "Python 3",
      "name": "python3"
    },
    "language_info": {
      "name": "python",
      "version": "3.10.13",
      "mimetype": "text/x-python",
      "codemirror_mode": {
        "name": "ipython",
        "version": 3
      },
      "pygments_lexer": "ipython3",
      "nbconvert_exporter": "python",
      "file_extension": ".py"
    },
    "kaggle": {
      "accelerator": "nvidiaTeslaT4",
      "dataSources": [
        {
          "sourceId": 63056,
          "databundleVersionId": 9094797,
          "sourceType": "competition"
        }
      ],
      "dockerImageVersionId": 30747,
      "isInternetEnabled": false,
      "language": "python",
      "sourceType": "notebook",
      "isGpuEnabled": true
    },
    "colab": {
      "name": "XGBoost - ISIC 2024",
      "provenance": []
    }
  },
  "nbformat_minor": 0,
  "nbformat": 4,
  "cells": [
    {
      "source": [
        "\n",
        "# IMPORTANT: RUN THIS CELL IN ORDER TO IMPORT YOUR KAGGLE DATA SOURCES\n",
        "# TO THE CORRECT LOCATION (/kaggle/input) IN YOUR NOTEBOOK,\n",
        "# THEN FEEL FREE TO DELETE THIS CELL.\n",
        "# NOTE: THIS NOTEBOOK ENVIRONMENT DIFFERS FROM KAGGLE'S PYTHON\n",
        "# ENVIRONMENT SO THERE MAY BE MISSING LIBRARIES USED BY YOUR\n",
        "# NOTEBOOK.\n",
        "\n",
        "import os\n",
        "import sys\n",
        "from tempfile import NamedTemporaryFile\n",
        "from urllib.request import urlopen\n",
        "from urllib.parse import unquote, urlparse\n",
        "from urllib.error import HTTPError\n",
        "from zipfile import ZipFile\n",
        "import tarfile\n",
        "import shutil\n",
        "\n",
        "CHUNK_SIZE = 40960\n",
        "DATA_SOURCE_MAPPING = 'isic-2024-challenge:https%3A%2F%2Fstorage.googleapis.com%2Fkaggle-competitions-data%2Fkaggle-v2%2F63056%2F9094797%2Fbundle%2Farchive.zip%3FX-Goog-Algorithm%3DGOOG4-RSA-SHA256%26X-Goog-Credential%3Dgcp-kaggle-com%2540kaggle-161607.iam.gserviceaccount.com%252F20240914%252Fauto%252Fstorage%252Fgoog4_request%26X-Goog-Date%3D20240914T183249Z%26X-Goog-Expires%3D259200%26X-Goog-SignedHeaders%3Dhost%26X-Goog-Signature%3D80c1f5bad0ed7dba60502afe139e18d6291799baf89bd24477bfb10726867710c0867d0f5ff3a78fa03ecceb07c48dee859738f2c541a7e89cc837155839e0b3cc27ddbc1b7a65f68a133e1ac808be5febb5a67fcd634150cbec92d70b19d87adf59636b3155f9de99e882d534a2b93ecd21c5ff0d49263d25bfacfc33444e4e6b50b53917a4fb66a48ae154d6ec04e9c76b06aa573869eb19465ac57728ae685bb7d85e9bb3285b47180cc85e45145aaea82fc2e9e4667a984aa5c32cdf479032210ebccbab2b9911f6051cb9d40d1062f46e7c2b94e3cd39639dc4d58a14703afe55ea208af1e0875b8e9a43acc88a1b11c1a37e8cdadd0402239bd811a012'\n",
        "\n",
        "KAGGLE_INPUT_PATH='/kaggle/input'\n",
        "KAGGLE_WORKING_PATH='/kaggle/working'\n",
        "KAGGLE_SYMLINK='kaggle'\n",
        "\n",
        "!umount /kaggle/input/ 2> /dev/null\n",
        "shutil.rmtree('/kaggle/input', ignore_errors=True)\n",
        "os.makedirs(KAGGLE_INPUT_PATH, 0o777, exist_ok=True)\n",
        "os.makedirs(KAGGLE_WORKING_PATH, 0o777, exist_ok=True)\n",
        "\n",
        "try:\n",
        "  os.symlink(KAGGLE_INPUT_PATH, os.path.join(\"..\", 'input'), target_is_directory=True)\n",
        "except FileExistsError:\n",
        "  pass\n",
        "try:\n",
        "  os.symlink(KAGGLE_WORKING_PATH, os.path.join(\"..\", 'working'), target_is_directory=True)\n",
        "except FileExistsError:\n",
        "  pass\n",
        "\n",
        "for data_source_mapping in DATA_SOURCE_MAPPING.split(','):\n",
        "    directory, download_url_encoded = data_source_mapping.split(':')\n",
        "    download_url = unquote(download_url_encoded)\n",
        "    filename = urlparse(download_url).path\n",
        "    destination_path = os.path.join(KAGGLE_INPUT_PATH, directory)\n",
        "    try:\n",
        "        with urlopen(download_url) as fileres, NamedTemporaryFile() as tfile:\n",
        "            total_length = fileres.headers['content-length']\n",
        "            print(f'Downloading {directory}, {total_length} bytes compressed')\n",
        "            dl = 0\n",
        "            data = fileres.read(CHUNK_SIZE)\n",
        "            while len(data) > 0:\n",
        "                dl += len(data)\n",
        "                tfile.write(data)\n",
        "                done = int(50 * dl / int(total_length))\n",
        "                sys.stdout.write(f\"\\r[{'=' * done}{' ' * (50-done)}] {dl} bytes downloaded\")\n",
        "                sys.stdout.flush()\n",
        "                data = fileres.read(CHUNK_SIZE)\n",
        "            if filename.endswith('.zip'):\n",
        "              with ZipFile(tfile) as zfile:\n",
        "                zfile.extractall(destination_path)\n",
        "            else:\n",
        "              with tarfile.open(tfile.name) as tarfile:\n",
        "                tarfile.extractall(destination_path)\n",
        "            print(f'\\nDownloaded and uncompressed: {directory}')\n",
        "    except HTTPError as e:\n",
        "        print(f'Failed to load (likely expired) {download_url} to path {destination_path}')\n",
        "        continue\n",
        "    except OSError as e:\n",
        "        print(f'Failed to load {download_url} to path {destination_path}')\n",
        "        continue\n",
        "\n",
        "print('Data source import complete.')\n"
      ],
      "metadata": {
        "id": "dvJQ2xVLzylv"
      },
      "cell_type": "code",
      "outputs": [],
      "execution_count": null
    },
    {
      "cell_type": "markdown",
      "source": [
        "### Packages"
      ],
      "metadata": {
        "id": "1lYLXR4fzyl1"
      }
    },
    {
      "cell_type": "code",
      "source": [
        "import pandas as pd\n",
        "import numpy as np\n",
        "import lightgbm as lgb\n",
        "import xgboost as xgb\n",
        "import os\n",
        "import optuna\n",
        "from sklearn.model_selection import GroupKFold\n",
        "from sklearn.preprocessing import OrdinalEncoder,OneHotEncoder\n",
        "from sklearn.compose import ColumnTransformer\n",
        "from sklearn.impute import SimpleImputer,MissingIndicator,KNNImputer\n",
        "from sklearn.pipeline import Pipeline,FeatureUnion\n",
        "from sklearn.ensemble import VotingClassifier\n",
        "from tqdm.notebook import tqdm\n",
        "from sklearn.metrics import roc_curve, auc,accuracy_score,f1_score,precision_score,recall_score,confusion_matrix\n",
        "import random"
      ],
      "metadata": {
        "_uuid": "8f2839f25d086af736a60e9eeb907d3b93b6e0e5",
        "_cell_guid": "b1076dfc-b9ad-4769-8c92-a6c4dae69d19",
        "execution": {
          "iopub.status.busy": "2024-07-27T21:34:36.609945Z",
          "iopub.execute_input": "2024-07-27T21:34:36.610284Z",
          "iopub.status.idle": "2024-07-27T21:34:43.718788Z",
          "shell.execute_reply.started": "2024-07-27T21:34:36.610255Z",
          "shell.execute_reply": "2024-07-27T21:34:43.7179Z"
        },
        "trusted": true,
        "id": "l1RbkGgzzyl3"
      },
      "execution_count": null,
      "outputs": []
    },
    {
      "cell_type": "markdown",
      "source": [
        "### Global"
      ],
      "metadata": {
        "id": "0sVWzZDJzyl4"
      }
    },
    {
      "cell_type": "code",
      "source": [
        "SEED = 42\n",
        "TRAIN_PATH = \"/kaggle/input/isic-2024-challenge/train-metadata.csv\"\n",
        "TEST_PATH = \"/kaggle/input/isic-2024-challenge/test-metadata.csv\"\n",
        "MODE = \"submit\""
      ],
      "metadata": {
        "execution": {
          "iopub.status.busy": "2024-07-27T21:34:43.720595Z",
          "iopub.execute_input": "2024-07-27T21:34:43.721177Z",
          "iopub.status.idle": "2024-07-27T21:34:43.728115Z",
          "shell.execute_reply.started": "2024-07-27T21:34:43.721151Z",
          "shell.execute_reply": "2024-07-27T21:34:43.727244Z"
        },
        "trusted": true,
        "id": "iKlW-v0Rzyl4"
      },
      "execution_count": null,
      "outputs": []
    },
    {
      "cell_type": "code",
      "source": [
        "random.seed(SEED)\n",
        "np.random.seed(SEED)"
      ],
      "metadata": {
        "execution": {
          "iopub.status.busy": "2024-07-27T21:34:43.729107Z",
          "iopub.execute_input": "2024-07-27T21:34:43.729416Z",
          "iopub.status.idle": "2024-07-27T21:34:43.736469Z",
          "shell.execute_reply.started": "2024-07-27T21:34:43.729383Z",
          "shell.execute_reply": "2024-07-27T21:34:43.735559Z"
        },
        "trusted": true,
        "id": "CdRfAWjqzyl4"
      },
      "execution_count": null,
      "outputs": []
    },
    {
      "cell_type": "markdown",
      "source": [
        "### Utils"
      ],
      "metadata": {
        "id": "D2MMLUYszyl5"
      }
    },
    {
      "cell_type": "code",
      "source": [
        "def create_preprocessors(X : pd.DataFrame, y : pd.DataFrame) -> list[Pipeline]:\n",
        "\n",
        "    p1 = Pipeline([\n",
        "        ('preprocessing', ColumnTransformer([\n",
        "            ('imputing', SimpleImputer(strategy='median'),X.select_dtypes(include=np.number).columns),\n",
        "            ('encoding', OrdinalEncoder(handle_unknown='use_encoded_value',unknown_value=-1,encoded_missing_value=-2), X.select_dtypes(include=object).columns),\n",
        "        ],remainder='passthrough'))\n",
        "    ])\n",
        "\n",
        "    p2 = Pipeline([\n",
        "        ('preprocessing', ColumnTransformer([\n",
        "            ('imputing', FeatureUnion([\n",
        "                ('simple-imputer',SimpleImputer(strategy='median')),\n",
        "                ('missing-indicator',MissingIndicator(sparse=False))\n",
        "            ]),X.select_dtypes(include=np.number).columns),\n",
        "            ('encoding', OrdinalEncoder(handle_unknown='use_encoded_value',unknown_value=-1,encoded_missing_value=-2), X.select_dtypes(include=object).columns),\n",
        "        ],remainder='passthrough'))\n",
        "    ])\n",
        "\n",
        "    p3 = Pipeline([\n",
        "        ('preprocessing', ColumnTransformer([\n",
        "            ('imputing', SimpleImputer(strategy='median'),X.select_dtypes(include=np.number).columns),\n",
        "            ('encoding', OneHotEncoder(sparse_output=False,handle_unknown=\"ignore\",drop='first'), X.select_dtypes(include=object).columns),\n",
        "        ],remainder='passthrough'))\n",
        "    ])\n",
        "\n",
        "    p4 = Pipeline([\n",
        "        ('preprocessing', ColumnTransformer([\n",
        "            ('imputing', FeatureUnion([\n",
        "                ('simple-imputer',SimpleImputer(strategy='median')),\n",
        "                ('missing-indicator',MissingIndicator(sparse=False))\n",
        "            ]),X.select_dtypes(include=np.number).columns),\n",
        "            ('encoding', OneHotEncoder(sparse_output=False,handle_unknown=\"ignore\",drop='first'), X.select_dtypes(include=object).columns),\n",
        "        ],remainder='passthrough'))\n",
        "    ])\n",
        "\n",
        "    return [p1,p2,p3,p4]"
      ],
      "metadata": {
        "execution": {
          "iopub.status.busy": "2024-07-27T21:34:43.738982Z",
          "iopub.execute_input": "2024-07-27T21:34:43.739376Z",
          "iopub.status.idle": "2024-07-27T21:34:43.751976Z",
          "shell.execute_reply.started": "2024-07-27T21:34:43.739346Z",
          "shell.execute_reply": "2024-07-27T21:34:43.751141Z"
        },
        "trusted": true,
        "id": "ZX6XITdmzyl6"
      },
      "execution_count": null,
      "outputs": []
    },
    {
      "cell_type": "code",
      "source": [
        "def feature_engineering(df : pd.DataFrame) -> pd.DataFrame:\n",
        "\n",
        "    eps = 1e-6\n",
        "\n",
        "    df[\"color_variance_ratio\"]           = df[\"tbp_lv_color_std_mean\"] / (df[\"tbp_lv_stdLExt\"] + eps)\n",
        "    df[\"border_color_interaction\"]       = df[\"tbp_lv_norm_border\"] * df[\"tbp_lv_norm_color\"]\n",
        "    df[\"size_color_contrast_ratio\"]      = df[\"clin_size_long_diam_mm\"] / (df[\"tbp_lv_deltaLBnorm\"] + eps)\n",
        "    df[\"age_normalized_nevi_confidence\"] = df[\"tbp_lv_nevi_confidence\"] / (df[\"age_approx\"] + eps)\n",
        "    df[\"color_asymmetry_index\"]          = df[\"tbp_lv_radial_color_std_max\"] * df[\"tbp_lv_symm_2axis\"]\n",
        "    df[\"3d_volume_approximation\"]        = df[\"tbp_lv_areaMM2\"] * np.sqrt(df[\"tbp_lv_x\"]**2 + df[\"tbp_lv_y\"]**2 + df[\"tbp_lv_z\"]**2)\n",
        "    df[\"color_range\"]                    = (df[\"tbp_lv_L\"] - df[\"tbp_lv_Lext\"]).abs() + (df[\"tbp_lv_A\"] - df[\"tbp_lv_Aext\"]).abs() + (df[\"tbp_lv_B\"] - df[\"tbp_lv_Bext\"]).abs()\n",
        "    df[\"shape_color_consistency\"]        = df[\"tbp_lv_eccentricity\"] * df[\"tbp_lv_color_std_mean\"]\n",
        "    df[\"border_length_ratio\"]            = df[\"tbp_lv_perimeterMM\"] / (2 * np.pi * np.sqrt(df[\"tbp_lv_areaMM2\"] / np.pi))\n",
        "    df[\"age_size_symmetry_index\"]        = df[\"age_approx\"] * df[\"clin_size_long_diam_mm\"] * df[\"tbp_lv_symm_2axis\"]\n",
        "    df[\"age_size_symmetry_index2\"]       = df[\"age_approx\"] * df[\"tbp_lv_areaMM2\"] * df[\"tbp_lv_symm_2axis\"]\n",
        "\n",
        "    df[\"lesion_size_ratio\"]              = df[\"tbp_lv_minorAxisMM\"] / (df[\"clin_size_long_diam_mm\"] + eps)\n",
        "    df[\"lesion_shape_index\"]             = df[\"tbp_lv_areaMM2\"] / (df[\"tbp_lv_perimeterMM\"] ** 2 + eps)\n",
        "    df[\"hue_contrast\"]                   = (df[\"tbp_lv_H\"] - df[\"tbp_lv_Hext\"]).abs()\n",
        "    df[\"luminance_contrast\"]             = (df[\"tbp_lv_L\"] - df[\"tbp_lv_Lext\"]).abs()\n",
        "    df[\"lesion_color_difference\"]        = np.sqrt(df[\"tbp_lv_deltaA\"] ** 2 + df[\"tbp_lv_deltaB\"] ** 2 + df[\"tbp_lv_deltaL\"] ** 2)\n",
        "    df[\"border_complexity\"]              = df[\"tbp_lv_norm_border\"] + df[\"tbp_lv_symm_2axis\"]\n",
        "    df[\"color_uniformity\"]               = df[\"tbp_lv_color_std_mean\"] / (df[\"tbp_lv_radial_color_std_max\"] + eps)\n",
        "    df[\"3d_position_distance\"]           = np.sqrt(df[\"tbp_lv_x\"] ** 2 + df[\"tbp_lv_y\"] ** 2 + df[\"tbp_lv_z\"] ** 2)\n",
        "    df[\"perimeter_to_area_ratio\"]        = df[\"tbp_lv_perimeterMM\"] / (df[\"tbp_lv_areaMM2\"] + eps)\n",
        "    df[\"lesion_visibility_score\"]        = df[\"tbp_lv_deltaLBnorm\"] + df[\"tbp_lv_norm_color\"]\n",
        "    df[\"combined_anatomical_site\"]       = df[\"anatom_site_general\"] + \"_\" + df[\"tbp_lv_location\"]\n",
        "    df[\"symmetry_border_consistency\"]    = df[\"tbp_lv_symm_2axis\"] * df[\"tbp_lv_norm_border\"]\n",
        "    df[\"color_consistency\"]              = df[\"tbp_lv_stdL\"] / (df[\"tbp_lv_Lext\"] + eps)\n",
        "\n",
        "    df[\"size_age_interaction\"]           = df[\"clin_size_long_diam_mm\"] * df[\"age_approx\"]\n",
        "    df[\"hue_color_std_interaction\"]      = df[\"tbp_lv_H\"] * df[\"tbp_lv_color_std_mean\"]\n",
        "    df[\"lesion_severity_index\"]          = (df[\"tbp_lv_norm_border\"] + df[\"tbp_lv_norm_color\"] + df[\"tbp_lv_eccentricity\"]) / 3\n",
        "    df[\"shape_complexity_index\"]         = df[\"border_complexity\"] + df[\"lesion_shape_index\"]\n",
        "    df[\"color_contrast_index\"]           = df[\"tbp_lv_deltaA\"] + df[\"tbp_lv_deltaB\"] + df[\"tbp_lv_deltaL\"] + df[\"tbp_lv_deltaLBnorm\"]\n",
        "    df[\"log_lesion_area\"]                = np.log(df[\"tbp_lv_areaMM2\"] + 1)\n",
        "    df[\"normalized_lesion_size\"]         = df[\"clin_size_long_diam_mm\"] / df[\"age_approx\"]\n",
        "    df[\"mean_hue_difference\"]            = (df[\"tbp_lv_H\"] + df[\"tbp_lv_Hext\"]) / 2\n",
        "    df[\"std_dev_contrast\"]               = np.sqrt((df[\"tbp_lv_deltaA\"] ** 2 + df[\"tbp_lv_deltaB\"] ** 2 + df[\"tbp_lv_deltaL\"] ** 2) / 3)\n",
        "    df[\"color_shape_composite_index\"]    = (df[\"tbp_lv_color_std_mean\"] + df[\"tbp_lv_area_perim_ratio\"] + df[\"tbp_lv_symm_2axis\"]) / 3\n",
        "    df[\"3d_lesion_orientation\"]          = np.arctan2(df[\"tbp_lv_y\"], df[\"tbp_lv_x\"])\n",
        "    df[\"overall_color_difference\"]       = (df[\"tbp_lv_deltaA\"] + df[\"tbp_lv_deltaB\"] + df[\"tbp_lv_deltaL\"]) / 3\n",
        "    df[\"symmetry_perimeter_interaction\"] = df[\"tbp_lv_symm_2axis\"] * df[\"tbp_lv_perimeterMM\"]\n",
        "    df[\"comprehensive_lesion_index\"]     = (df[\"tbp_lv_area_perim_ratio\"] + df[\"tbp_lv_eccentricity\"] + df[\"tbp_lv_norm_color\"] + df[\"tbp_lv_symm_2axis\"]) / 4\n",
        "\n",
        "    return df"
      ],
      "metadata": {
        "execution": {
          "iopub.status.busy": "2024-07-27T21:34:43.753126Z",
          "iopub.execute_input": "2024-07-27T21:34:43.753439Z",
          "iopub.status.idle": "2024-07-27T21:34:43.774206Z",
          "shell.execute_reply.started": "2024-07-27T21:34:43.753416Z",
          "shell.execute_reply": "2024-07-27T21:34:43.77325Z"
        },
        "trusted": true,
        "id": "SZnS9ckCzyl7"
      },
      "execution_count": null,
      "outputs": []
    },
    {
      "cell_type": "code",
      "source": [
        "def preprare_data(df : pd.DataFrame) -> tuple[dict,list]:\n",
        "\n",
        "    target_col = 'target'\n",
        "\n",
        "    df = feature_engineering(df)\n",
        "\n",
        "    X = df.drop(columns=[target_col,'patient_id'])\n",
        "    y = df[target_col]\n",
        "\n",
        "    preprocessors = create_preprocessors(X,y)\n",
        "\n",
        "    for i,p in enumerate(preprocessors):\n",
        "        p.fit(X, y)\n",
        "\n",
        "    data = dict()\n",
        "\n",
        "    gfk = GroupKFold(n_splits=5)\n",
        "\n",
        "    for fold,(train_idx,val_idx) in tqdm(enumerate(gfk.split(df,groups=df['patient_id'])), total=5):\n",
        "\n",
        "        train = df.loc[train_idx]\n",
        "        val = df.loc[val_idx]\n",
        "\n",
        "        X_train = train.drop([target_col,'patient_id'],axis=1)\n",
        "        y_train = train[target_col]\n",
        "        X_val = val.drop([target_col,'patient_id'],axis=1)\n",
        "        y_val = val[target_col]\n",
        "\n",
        "        for i,p in enumerate(preprocessors):\n",
        "\n",
        "            if f'preprocessing-{i}' not in data:\n",
        "                data[f'preprocessing-{i}'] = []\n",
        "\n",
        "            X_train_ = p.transform(X_train)\n",
        "            X_val_ = p.transform(X_val)\n",
        "\n",
        "            data[f'preprocessing-{i}'].append({\n",
        "                'train' : (X_train_,y_train.values),\n",
        "                'val' : (X_val_,y_val.values)\n",
        "            })\n",
        "\n",
        "    return data,preprocessors"
      ],
      "metadata": {
        "execution": {
          "iopub.status.busy": "2024-07-27T21:34:43.77537Z",
          "iopub.execute_input": "2024-07-27T21:34:43.775697Z",
          "iopub.status.idle": "2024-07-27T21:34:43.788495Z",
          "shell.execute_reply.started": "2024-07-27T21:34:43.775668Z",
          "shell.execute_reply": "2024-07-27T21:34:43.787646Z"
        },
        "trusted": true,
        "id": "tcjnzJV6zyl8"
      },
      "execution_count": null,
      "outputs": []
    },
    {
      "cell_type": "code",
      "source": [
        "def get_xgb_data(data : dict):\n",
        "\n",
        "    xgb_data = dict()\n",
        "\n",
        "    for dataset in data:\n",
        "\n",
        "        xgb_data[dataset] = []\n",
        "\n",
        "        for fold in data[dataset]:\n",
        "\n",
        "            train_data = fold['train']\n",
        "            val_data = fold['val']\n",
        "\n",
        "            X_train,y_train = train_data\n",
        "            X_val,y_val = val_data\n",
        "\n",
        "            dtrain = xgb.DMatrix(X_train,y_train)\n",
        "            dval = xgb.DMatrix(X_val,y_val)\n",
        "\n",
        "            xgb_data[dataset].append((dtrain,dval))\n",
        "\n",
        "    return xgb_data"
      ],
      "metadata": {
        "execution": {
          "iopub.status.busy": "2024-07-27T21:34:43.789369Z",
          "iopub.execute_input": "2024-07-27T21:34:43.790533Z",
          "iopub.status.idle": "2024-07-27T21:34:43.799572Z",
          "shell.execute_reply.started": "2024-07-27T21:34:43.790499Z",
          "shell.execute_reply": "2024-07-27T21:34:43.798797Z"
        },
        "trusted": true,
        "id": "cIFoFCUhzyl9"
      },
      "execution_count": null,
      "outputs": []
    },
    {
      "cell_type": "code",
      "source": [
        "def train_xgb(data : list, params : dict, model_type=lgb.LGBMClassifier) -> list:\n",
        "\n",
        "    models = []\n",
        "\n",
        "    for fold in tqdm(range(5),total=5):\n",
        "\n",
        "        dtrain,dval = data[fold]\n",
        "\n",
        "        model = xgb.train(params, dtrain)\n",
        "\n",
        "        models.append(model)\n",
        "\n",
        "    return models"
      ],
      "metadata": {
        "execution": {
          "iopub.status.busy": "2024-07-27T21:34:43.800881Z",
          "iopub.execute_input": "2024-07-27T21:34:43.801212Z",
          "iopub.status.idle": "2024-07-27T21:34:43.812949Z",
          "shell.execute_reply.started": "2024-07-27T21:34:43.801182Z",
          "shell.execute_reply": "2024-07-27T21:34:43.811987Z"
        },
        "trusted": true,
        "id": "QVEBfow1zyl9"
      },
      "execution_count": null,
      "outputs": []
    },
    {
      "cell_type": "code",
      "source": [
        "def predict(data : list, models : list) -> list:\n",
        "\n",
        "    preds = []\n",
        "\n",
        "    for fold in tqdm(range(5),total=5):\n",
        "\n",
        "        dtrain,dval = data[fold]\n",
        "\n",
        "        model = models[fold]\n",
        "\n",
        "        pred = model.predict(dval)\n",
        "\n",
        "        preds.append(preds)\n",
        "\n",
        "    return preds"
      ],
      "metadata": {
        "execution": {
          "iopub.status.busy": "2024-07-27T21:34:43.81415Z",
          "iopub.execute_input": "2024-07-27T21:34:43.814692Z",
          "iopub.status.idle": "2024-07-27T21:34:43.828626Z",
          "shell.execute_reply.started": "2024-07-27T21:34:43.814662Z",
          "shell.execute_reply": "2024-07-27T21:34:43.827789Z"
        },
        "trusted": true,
        "id": "dgAgNm12zyl-"
      },
      "execution_count": null,
      "outputs": []
    },
    {
      "cell_type": "code",
      "source": [
        "def pauc(solution: np.array, submission: np.array, min_tpr : float = 0.8) -> float:\n",
        "    v_gt = abs(np.asarray(solution)-1)\n",
        "\n",
        "    # flip the submissions to their compliments\n",
        "    v_pred = -1.0*np.asarray(submission)\n",
        "\n",
        "    max_fpr = abs(1-min_tpr)\n",
        "\n",
        "    # using sklearn.metric functions: (1) roc_curve and (2) auc\n",
        "    fpr, tpr, _ = roc_curve(v_gt, v_pred, sample_weight=None)\n",
        "    if max_fpr is None or max_fpr == 1:\n",
        "        return auc(fpr, tpr)\n",
        "    if max_fpr <= 0 or max_fpr > 1:\n",
        "        raise ValueError(\"Expected min_tpr in range [0, 1), got: %r\" % min_tpr)\n",
        "\n",
        "    # Add a single point at max_fpr by linear interpolation\n",
        "    stop = np.searchsorted(fpr, max_fpr, \"right\")\n",
        "    x_interp = [fpr[stop - 1], fpr[stop]]\n",
        "    y_interp = [tpr[stop - 1], tpr[stop]]\n",
        "    tpr = np.append(tpr[:stop], np.interp(max_fpr, x_interp, y_interp))\n",
        "    fpr = np.append(fpr[:stop], max_fpr)\n",
        "    partial_auc = auc(fpr, tpr)\n",
        "\n",
        "    return(partial_auc)"
      ],
      "metadata": {
        "execution": {
          "iopub.status.busy": "2024-07-27T21:34:43.833002Z",
          "iopub.execute_input": "2024-07-27T21:34:43.83332Z",
          "iopub.status.idle": "2024-07-27T21:34:43.843283Z",
          "shell.execute_reply.started": "2024-07-27T21:34:43.833293Z",
          "shell.execute_reply": "2024-07-27T21:34:43.842305Z"
        },
        "trusted": true,
        "id": "FoQlCBrtzyl-"
      },
      "execution_count": null,
      "outputs": []
    },
    {
      "cell_type": "markdown",
      "source": [
        "### Data preparation"
      ],
      "metadata": {
        "id": "ojkk_qDYzyl-"
      }
    },
    {
      "cell_type": "code",
      "source": [
        "isic_cols = ['age_approx','sex','anatom_site_general','clin_size_long_diam_mm','tbp_lv_A']\n",
        "isic_cols += ['tbp_lv_Aext','tbp_lv_B','tbp_lv_Bext','tbp_lv_C','tbp_lv_Cext','tbp_lv_H','tbp_lv_Hext','tbp_lv_L']\n",
        "isic_cols += ['tbp_lv_Lext','tbp_lv_areaMM2','tbp_lv_area_perim_ratio','tbp_lv_color_std_mean','tbp_lv_deltaA']\n",
        "isic_cols += ['tbp_lv_deltaB','tbp_lv_deltaL','tbp_lv_deltaLB','tbp_lv_deltaLBnorm','tbp_lv_eccentricity','tbp_lv_location']\n",
        "isic_cols += ['tbp_lv_minorAxisMM','tbp_lv_nevi_confidence','tbp_lv_norm_border','tbp_lv_norm_color']\n",
        "isic_cols += ['tbp_lv_perimeterMM','tbp_lv_radial_color_std_max','tbp_lv_stdL','tbp_lv_stdLExt','tbp_lv_symm_2axis']\n",
        "isic_cols += ['tbp_lv_symm_2axis_angle','tbp_lv_x','tbp_lv_y','tbp_lv_z','tbp_lv_location_simple']\n",
        "isic_cols += ['target','patient_id']"
      ],
      "metadata": {
        "execution": {
          "iopub.status.busy": "2024-07-27T21:34:43.844882Z",
          "iopub.execute_input": "2024-07-27T21:34:43.84522Z",
          "iopub.status.idle": "2024-07-27T21:34:43.855425Z",
          "shell.execute_reply.started": "2024-07-27T21:34:43.845192Z",
          "shell.execute_reply": "2024-07-27T21:34:43.854481Z"
        },
        "trusted": true,
        "id": "VXGz-IA7zyl-"
      },
      "execution_count": null,
      "outputs": []
    },
    {
      "cell_type": "code",
      "source": [
        "df = pd.read_csv(TRAIN_PATH)\n",
        "df = df[isic_cols]"
      ],
      "metadata": {
        "execution": {
          "iopub.status.busy": "2024-07-27T21:34:43.856879Z",
          "iopub.execute_input": "2024-07-27T21:34:43.857228Z",
          "iopub.status.idle": "2024-07-27T21:34:51.609908Z",
          "shell.execute_reply.started": "2024-07-27T21:34:43.857199Z",
          "shell.execute_reply": "2024-07-27T21:34:51.608936Z"
        },
        "trusted": true,
        "id": "hSTsqARhzyl_"
      },
      "execution_count": null,
      "outputs": []
    },
    {
      "cell_type": "code",
      "source": [
        "data,preorocessors = preprare_data(df)"
      ],
      "metadata": {
        "execution": {
          "iopub.status.busy": "2024-07-27T21:34:51.611195Z",
          "iopub.execute_input": "2024-07-27T21:34:51.611957Z",
          "iopub.status.idle": "2024-07-27T21:35:47.68579Z",
          "shell.execute_reply.started": "2024-07-27T21:34:51.611919Z",
          "shell.execute_reply": "2024-07-27T21:35:47.684834Z"
        },
        "trusted": true,
        "id": "nydf1ruTzyl_"
      },
      "execution_count": null,
      "outputs": []
    },
    {
      "cell_type": "code",
      "source": [
        "xgb_data = get_xgb_data(data)"
      ],
      "metadata": {
        "execution": {
          "iopub.status.busy": "2024-07-27T21:35:47.687016Z",
          "iopub.execute_input": "2024-07-27T21:35:47.687301Z",
          "iopub.status.idle": "2024-07-27T21:35:58.809443Z",
          "shell.execute_reply.started": "2024-07-27T21:35:47.687277Z",
          "shell.execute_reply": "2024-07-27T21:35:58.808481Z"
        },
        "trusted": true,
        "id": "nWjTOYpjzyl_"
      },
      "execution_count": null,
      "outputs": []
    },
    {
      "cell_type": "markdown",
      "source": [
        "### Training"
      ],
      "metadata": {
        "id": "UK_yWRINzyl_"
      }
    },
    {
      "cell_type": "code",
      "source": [
        "top_k_xgb_models = {}\n",
        "k = 5"
      ],
      "metadata": {
        "execution": {
          "iopub.status.busy": "2024-07-27T21:35:58.810466Z",
          "iopub.execute_input": "2024-07-27T21:35:58.810797Z",
          "iopub.status.idle": "2024-07-27T21:35:58.818719Z",
          "shell.execute_reply.started": "2024-07-27T21:35:58.810767Z",
          "shell.execute_reply": "2024-07-27T21:35:58.817847Z"
        },
        "trusted": true,
        "id": "itjl2kJqzyl_"
      },
      "execution_count": null,
      "outputs": []
    },
    {
      "cell_type": "code",
      "source": [
        "def xgb_objective(trial : optuna.Trial):\n",
        "\n",
        "    params = {\n",
        "        \"seed\" : SEED,\n",
        "        \"device\" : \"gpu\",\n",
        "        \"verbosity\" : 0,\n",
        "    }\n",
        "\n",
        "    params[\"n_estimators\"] = trial.suggest_int(\"n_estimators\", 100, 2000)\n",
        "\n",
        "    params[\"objective\"] = \"binary:logistic\"\n",
        "\n",
        "    params[\"eval_metric\"] = \"logloss\"\n",
        "\n",
        "    params[\"eta\"] = trial.suggest_float(\"eta\", 0.01, 0.3)\n",
        "\n",
        "    params[\"max_depth\"] = trial.suggest_int(\"max_depth\", 3, 16)\n",
        "\n",
        "    params[\"subsample\"] = trial.suggest_float(\"subsample\", 0.4, 1.0)\n",
        "\n",
        "    params[\"colsample_bytree\"] = trial.suggest_float(\"colsample_bytree\", 0.4, 1.0)\n",
        "\n",
        "    params[\"scale_pos_weight\"] = trial.suggest_float(\"scale_pos_weight\", 1.0, 1200.0)\n",
        "\n",
        "    params[\"min_child_weight\"] = trial.suggest_int(\"min_child_weight\", 1, 500)\n",
        "\n",
        "    params[\"gamma\"] = trial.suggest_float(\"gamma\", 0.0, 10.0)\n",
        "\n",
        "    params[\"max_delta_step\"] = trial.suggest_int(\"max_delta_step\", 0, 10)\n",
        "\n",
        "    params[\"lambda\"] = trial.suggest_float(\"lambda\", 0.0, 10.0)\n",
        "\n",
        "    preprocessing = trial.suggest_int(\"preprocessing\", 0, 3)\n",
        "\n",
        "    scores = []\n",
        "\n",
        "    for fold in xgb_data[f'preprocessing-{preprocessing}']:\n",
        "\n",
        "        dtrain,dval = fold\n",
        "        model = xgb.train(params,dtrain)\n",
        "        y_hat = model.predict(dval)\n",
        "\n",
        "        scores.append(pauc(dval.get_label(), y_hat))\n",
        "\n",
        "    mean = np.mean(scores)\n",
        "\n",
        "    params[\"preprocessing\"] = preprocessing\n",
        "\n",
        "    if len(top_k_xgb_models) < k:\n",
        "        top_k_xgb_models[mean] = params\n",
        "    else:\n",
        "        min_score = min(top_k_xgb_models.keys())\n",
        "        if mean > min_score:\n",
        "            del top_k_xgb_models[min_score]\n",
        "            top_k_xgb_models[mean] = params\n",
        "\n",
        "    return mean"
      ],
      "metadata": {
        "execution": {
          "iopub.status.busy": "2024-07-27T21:35:58.81987Z",
          "iopub.execute_input": "2024-07-27T21:35:58.820166Z",
          "iopub.status.idle": "2024-07-27T21:35:58.834289Z",
          "shell.execute_reply.started": "2024-07-27T21:35:58.820138Z",
          "shell.execute_reply": "2024-07-27T21:35:58.833478Z"
        },
        "trusted": true,
        "id": "ActsWq4Vzyl_"
      },
      "execution_count": null,
      "outputs": []
    },
    {
      "cell_type": "code",
      "source": [
        "study = optuna.create_study(direction=\"maximize\",sampler=optuna.samplers.TPESampler(seed=SEED))"
      ],
      "metadata": {
        "execution": {
          "iopub.status.busy": "2024-07-27T21:35:58.835544Z",
          "iopub.execute_input": "2024-07-27T21:35:58.836085Z",
          "iopub.status.idle": "2024-07-27T21:35:58.849591Z",
          "shell.execute_reply.started": "2024-07-27T21:35:58.836052Z",
          "shell.execute_reply": "2024-07-27T21:35:58.848834Z"
        },
        "trusted": true,
        "id": "eT2Mn1JLzyl_"
      },
      "execution_count": null,
      "outputs": []
    },
    {
      "cell_type": "code",
      "source": [
        "if MODE == \"train\":\n",
        "    study.optimize(xgb_objective, n_trials=600, show_progress_bar=True)"
      ],
      "metadata": {
        "execution": {
          "iopub.status.busy": "2024-07-27T21:35:58.850835Z",
          "iopub.execute_input": "2024-07-27T21:35:58.85133Z",
          "iopub.status.idle": "2024-07-27T21:35:58.856677Z",
          "shell.execute_reply.started": "2024-07-27T21:35:58.851302Z",
          "shell.execute_reply": "2024-07-27T21:35:58.855733Z"
        },
        "trusted": true,
        "id": "6uQ-2HLvzymA"
      },
      "execution_count": null,
      "outputs": []
    },
    {
      "cell_type": "code",
      "source": [
        "params = [{'seed': 42,\n",
        "  'device': 'gpu',\n",
        "  'verbosity': 0,\n",
        "  'n_estimators': 157,\n",
        "  'objective': 'binary:logistic',\n",
        "  'eval_metric': 'logloss',\n",
        "  'eta': 0.25476128425854655,\n",
        "  'max_depth': 5,\n",
        "  'subsample': 0.6787811038410864,\n",
        "  'colsample_bytree': 0.5155976119504401,\n",
        "  'scale_pos_weight': 288.95074112607983,\n",
        "  'min_child_weight': 363,\n",
        "  'gamma': 1.0647069022702935,\n",
        "  'max_delta_step': 5,\n",
        "  'lambda': 1.8799956112165466,\n",
        "  'preprocessing': 3},\n",
        " {'seed': 42,\n",
        "  'device': 'gpu',\n",
        "  'verbosity': 0,\n",
        "  'n_estimators': 328,\n",
        "  'objective': 'binary:logistic',\n",
        "  'eval_metric': 'logloss',\n",
        "  'eta': 0.2567867140407475,\n",
        "  'max_depth': 5,\n",
        "  'subsample': 0.702344584414856,\n",
        "  'colsample_bytree': 0.5121079529423151,\n",
        "  'scale_pos_weight': 237.6148071259882,\n",
        "  'min_child_weight': 346,\n",
        "  'gamma': 0.6633876786270412,\n",
        "  'max_delta_step': 6,\n",
        "  'lambda': 1.7573365079227086,\n",
        "  'preprocessing': 3},\n",
        " {'seed': 42,\n",
        "  'device': 'gpu',\n",
        "  'verbosity': 0,\n",
        "  'n_estimators': 280,\n",
        "  'objective': 'binary:logistic',\n",
        "  'eval_metric': 'logloss',\n",
        "  'eta': 0.2610742654280035,\n",
        "  'max_depth': 5,\n",
        "  'subsample': 0.725405910803676,\n",
        "  'colsample_bytree': 0.4963538314984176,\n",
        "  'scale_pos_weight': 221.56384344083796,\n",
        "  'min_child_weight': 332,\n",
        "  'gamma': 0.19317214348960077,\n",
        "  'max_delta_step': 6,\n",
        "  'lambda': 2.0035140473205955,\n",
        "  'preprocessing': 3},\n",
        " {'seed': 42,\n",
        "  'device': 'gpu',\n",
        "  'verbosity': 0,\n",
        "  'n_estimators': 175,\n",
        "  'objective': 'binary:logistic',\n",
        "  'eval_metric': 'logloss',\n",
        "  'eta': 0.25976109114341067,\n",
        "  'max_depth': 5,\n",
        "  'subsample': 0.7077302661810733,\n",
        "  'colsample_bytree': 0.4989437136265675,\n",
        "  'scale_pos_weight': 224.38554946447817,\n",
        "  'min_child_weight': 339,\n",
        "  'gamma': 0.02363121329124465,\n",
        "  'max_delta_step': 6,\n",
        "  'lambda': 1.7077803662151292,\n",
        "  'preprocessing': 3},\n",
        " {'seed': 42,\n",
        "  'device': 'gpu',\n",
        "  'verbosity': 0,\n",
        "  'n_estimators': 1551,\n",
        "  'objective': 'binary:logistic',\n",
        "  'eval_metric': 'logloss',\n",
        "  'eta': 0.2544223456389429,\n",
        "  'max_depth': 5,\n",
        "  'subsample': 0.7162855240498472,\n",
        "  'colsample_bytree': 0.505492977416504,\n",
        "  'scale_pos_weight': 194.58222305828355,\n",
        "  'min_child_weight': 347,\n",
        "  'gamma': 0.941582009184013,\n",
        "  'max_delta_step': 6,\n",
        "  'lambda': 1.5043238438058508,\n",
        "  'preprocessing': 3}]"
      ],
      "metadata": {
        "execution": {
          "iopub.status.busy": "2024-07-27T21:35:58.857939Z",
          "iopub.execute_input": "2024-07-27T21:35:58.858566Z",
          "iopub.status.idle": "2024-07-27T21:35:58.870895Z",
          "shell.execute_reply.started": "2024-07-27T21:35:58.858536Z",
          "shell.execute_reply": "2024-07-27T21:35:58.870004Z"
        },
        "trusted": true,
        "id": "m-QkyRmlzymA"
      },
      "execution_count": null,
      "outputs": []
    },
    {
      "cell_type": "code",
      "source": [
        "def create_models(\n",
        "    params : list[dict],\n",
        "    data : dict[str,list[tuple[xgb.DMatrix,xgb.DMatrix]]]\n",
        "):\n",
        "\n",
        "    models = []\n",
        "\n",
        "    for param in tqdm(params):\n",
        "\n",
        "        preprocessing = param['preprocessing']\n",
        "        del param['preprocessing']\n",
        "\n",
        "        folds = data[f'preprocessing-{preprocessing}']\n",
        "\n",
        "        models.append([])\n",
        "\n",
        "        for dtrain,dval in folds:\n",
        "\n",
        "            model = xgb.train(param, dtrain)\n",
        "            models[-1].append(model)\n",
        "\n",
        "        param['preprocessing'] = preprocessing\n",
        "\n",
        "    return models"
      ],
      "metadata": {
        "execution": {
          "iopub.status.busy": "2024-07-27T21:35:58.871963Z",
          "iopub.execute_input": "2024-07-27T21:35:58.872284Z",
          "iopub.status.idle": "2024-07-27T21:35:58.883813Z",
          "shell.execute_reply.started": "2024-07-27T21:35:58.872262Z",
          "shell.execute_reply": "2024-07-27T21:35:58.882879Z"
        },
        "trusted": true,
        "id": "mK4gkRFNzymA"
      },
      "execution_count": null,
      "outputs": []
    },
    {
      "cell_type": "code",
      "source": [
        "models = create_models(params, xgb_data)"
      ],
      "metadata": {
        "execution": {
          "iopub.status.busy": "2024-07-27T21:35:58.884978Z",
          "iopub.execute_input": "2024-07-27T21:35:58.885234Z",
          "iopub.status.idle": "2024-07-27T21:36:02.637259Z",
          "shell.execute_reply.started": "2024-07-27T21:35:58.885213Z",
          "shell.execute_reply": "2024-07-27T21:36:02.636399Z"
        },
        "trusted": true,
        "id": "kTuJAVxCzymA"
      },
      "execution_count": null,
      "outputs": []
    },
    {
      "cell_type": "code",
      "source": [
        "def predict(\n",
        "    params : list[dict],\n",
        "    models : list[xgb.Booster],\n",
        "    data : pd.DataFrame,\n",
        "    preprocessors : list[Pipeline]\n",
        "):\n",
        "    preds = []\n",
        "\n",
        "    for i,param in enumerate(params):\n",
        "\n",
        "        preprocessing = param['preprocessing']\n",
        "        preprocessor = preprocessors[preprocessing]\n",
        "        models_grp = models[i]\n",
        "\n",
        "        X = preprocessor.transform(data)\n",
        "        X = xgb.DMatrix(X)\n",
        "\n",
        "        for model in models_grp:\n",
        "            y_hat = model.predict(X)\n",
        "            preds.append(y_hat)\n",
        "\n",
        "    return preds"
      ],
      "metadata": {
        "execution": {
          "iopub.status.busy": "2024-07-27T21:36:02.64028Z",
          "iopub.execute_input": "2024-07-27T21:36:02.640632Z",
          "iopub.status.idle": "2024-07-27T21:36:02.648522Z",
          "shell.execute_reply.started": "2024-07-27T21:36:02.640592Z",
          "shell.execute_reply": "2024-07-27T21:36:02.647567Z"
        },
        "trusted": true,
        "id": "_vrV0wdDzymA"
      },
      "execution_count": null,
      "outputs": []
    },
    {
      "cell_type": "markdown",
      "source": [
        "### Submission"
      ],
      "metadata": {
        "id": "fVMzBzkxzymA"
      }
    },
    {
      "cell_type": "code",
      "source": [
        "isic_cols.pop(isic_cols.index('patient_id'))"
      ],
      "metadata": {
        "execution": {
          "iopub.status.busy": "2024-07-27T21:36:02.64964Z",
          "iopub.execute_input": "2024-07-27T21:36:02.649915Z",
          "iopub.status.idle": "2024-07-27T21:36:02.662789Z",
          "shell.execute_reply.started": "2024-07-27T21:36:02.649893Z",
          "shell.execute_reply": "2024-07-27T21:36:02.661973Z"
        },
        "trusted": true,
        "id": "5y-avd5wzymB"
      },
      "execution_count": null,
      "outputs": []
    },
    {
      "cell_type": "code",
      "source": [
        "isic_cols.pop(isic_cols.index('target'))"
      ],
      "metadata": {
        "execution": {
          "iopub.status.busy": "2024-07-27T21:36:02.663801Z",
          "iopub.execute_input": "2024-07-27T21:36:02.664077Z",
          "iopub.status.idle": "2024-07-27T21:36:02.673989Z",
          "shell.execute_reply.started": "2024-07-27T21:36:02.664044Z",
          "shell.execute_reply": "2024-07-27T21:36:02.673081Z"
        },
        "trusted": true,
        "id": "tBxRJgX6zymB"
      },
      "execution_count": null,
      "outputs": []
    },
    {
      "cell_type": "code",
      "source": [
        "def is_number(x):\n",
        "    return isinstance(x, int) or isinstance(x, float) or isinstance(x, np.number)\n",
        "\n",
        "def adapt(test : pd.DataFrame, train : pd.DataFrame) -> pd.DataFrame:\n",
        "\n",
        "    numerical_columns = train.select_dtypes(np.number).columns\n",
        "    categorical_columns = train.select_dtypes(object).columns\n",
        "\n",
        "    test = test.copy()\n",
        "\n",
        "    for col in numerical_columns:\n",
        "        test[col] = test[col].map(lambda x : x if is_number(x) else np.nan).astype(float)\n",
        "\n",
        "    for col in categorical_columns:\n",
        "         test[col] = test[col].astype(object)\n",
        "\n",
        "    return test"
      ],
      "metadata": {
        "execution": {
          "iopub.status.busy": "2024-07-27T21:36:02.675089Z",
          "iopub.execute_input": "2024-07-27T21:36:02.675344Z",
          "iopub.status.idle": "2024-07-27T21:36:02.684121Z",
          "shell.execute_reply.started": "2024-07-27T21:36:02.675322Z",
          "shell.execute_reply": "2024-07-27T21:36:02.683348Z"
        },
        "trusted": true,
        "id": "bBGytExezymB"
      },
      "execution_count": null,
      "outputs": []
    },
    {
      "cell_type": "code",
      "source": [
        "test_df = pd.read_csv(TEST_PATH)\n",
        "train_df = pd.read_csv(TRAIN_PATH)[test_df.columns]\n",
        "test_df = adapt(test_df, train_df)\n",
        "isic_id = test_df['isic_id']\n",
        "test_df = test_df[isic_cols]"
      ],
      "metadata": {
        "execution": {
          "iopub.status.busy": "2024-07-27T21:36:02.685106Z",
          "iopub.execute_input": "2024-07-27T21:36:02.685363Z",
          "iopub.status.idle": "2024-07-27T21:36:07.489447Z",
          "shell.execute_reply.started": "2024-07-27T21:36:02.685341Z",
          "shell.execute_reply": "2024-07-27T21:36:07.488392Z"
        },
        "trusted": true,
        "id": "ukmk6iCEzymC"
      },
      "execution_count": null,
      "outputs": []
    },
    {
      "cell_type": "code",
      "source": [
        "test_df = feature_engineering(test_df)\n",
        "test_df = test_df.replace(np.inf, 1e6).replace(-np.inf,-1e6).replace(np.nan, 0.0)"
      ],
      "metadata": {
        "execution": {
          "iopub.status.busy": "2024-07-27T21:36:07.490693Z",
          "iopub.execute_input": "2024-07-27T21:36:07.490976Z",
          "iopub.status.idle": "2024-07-27T21:36:07.536477Z",
          "shell.execute_reply.started": "2024-07-27T21:36:07.490952Z",
          "shell.execute_reply": "2024-07-27T21:36:07.535394Z"
        },
        "trusted": true,
        "id": "rN34k37nzymC"
      },
      "execution_count": null,
      "outputs": []
    },
    {
      "cell_type": "code",
      "source": [
        "preds = predict(params,models,test_df,preorocessors)"
      ],
      "metadata": {
        "execution": {
          "iopub.status.busy": "2024-07-27T21:36:07.541856Z",
          "iopub.execute_input": "2024-07-27T21:36:07.542279Z",
          "iopub.status.idle": "2024-07-27T21:36:07.679173Z",
          "shell.execute_reply.started": "2024-07-27T21:36:07.542251Z",
          "shell.execute_reply": "2024-07-27T21:36:07.678275Z"
        },
        "trusted": true,
        "id": "3FO_2IuOzymC"
      },
      "execution_count": null,
      "outputs": []
    },
    {
      "cell_type": "code",
      "source": [
        "preds = np.vstack(preds).mean(axis=0)"
      ],
      "metadata": {
        "execution": {
          "iopub.status.busy": "2024-07-27T21:36:07.680255Z",
          "iopub.execute_input": "2024-07-27T21:36:07.680805Z",
          "iopub.status.idle": "2024-07-27T21:36:07.686383Z",
          "shell.execute_reply.started": "2024-07-27T21:36:07.680779Z",
          "shell.execute_reply": "2024-07-27T21:36:07.685434Z"
        },
        "trusted": true,
        "id": "gd_cVUJbzymD"
      },
      "execution_count": null,
      "outputs": []
    },
    {
      "cell_type": "code",
      "source": [
        "df = pd.DataFrame({\n",
        "    'isic_id' : isic_id,\n",
        "    'target' : preds\n",
        "})"
      ],
      "metadata": {
        "execution": {
          "iopub.status.busy": "2024-07-27T21:36:07.687514Z",
          "iopub.execute_input": "2024-07-27T21:36:07.68786Z",
          "iopub.status.idle": "2024-07-27T21:36:07.716368Z",
          "shell.execute_reply.started": "2024-07-27T21:36:07.687836Z",
          "shell.execute_reply": "2024-07-27T21:36:07.715664Z"
        },
        "trusted": true,
        "id": "-DvL67F-zymD"
      },
      "execution_count": null,
      "outputs": []
    },
    {
      "cell_type": "code",
      "source": [
        "df.head()"
      ],
      "metadata": {
        "execution": {
          "iopub.status.busy": "2024-07-27T21:36:07.717414Z",
          "iopub.execute_input": "2024-07-27T21:36:07.717747Z",
          "iopub.status.idle": "2024-07-27T21:36:07.735032Z",
          "shell.execute_reply.started": "2024-07-27T21:36:07.717717Z",
          "shell.execute_reply": "2024-07-27T21:36:07.734065Z"
        },
        "trusted": true,
        "id": "J3th0Wh5zymD"
      },
      "execution_count": null,
      "outputs": []
    },
    {
      "cell_type": "code",
      "source": [
        "df.to_csv('/kaggle/working/submission.csv',index=False)"
      ],
      "metadata": {
        "execution": {
          "iopub.status.busy": "2024-07-27T21:36:07.735945Z",
          "iopub.execute_input": "2024-07-27T21:36:07.736198Z",
          "iopub.status.idle": "2024-07-27T21:36:07.743306Z",
          "shell.execute_reply.started": "2024-07-27T21:36:07.73616Z",
          "shell.execute_reply": "2024-07-27T21:36:07.742543Z"
        },
        "trusted": true,
        "id": "YYfhl87zzymD"
      },
      "execution_count": null,
      "outputs": []
    },
    {
      "cell_type": "code",
      "source": [
        "!head /kaggle/working/submission.csv"
      ],
      "metadata": {
        "execution": {
          "iopub.status.busy": "2024-07-27T21:36:07.744405Z",
          "iopub.execute_input": "2024-07-27T21:36:07.744746Z",
          "iopub.status.idle": "2024-07-27T21:36:08.889336Z",
          "shell.execute_reply.started": "2024-07-27T21:36:07.744717Z",
          "shell.execute_reply": "2024-07-27T21:36:08.888369Z"
        },
        "trusted": true,
        "id": "MTaLHafuzymK"
      },
      "execution_count": null,
      "outputs": []
    }
  ]
}